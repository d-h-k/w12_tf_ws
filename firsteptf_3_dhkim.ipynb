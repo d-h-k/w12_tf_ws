{
  "nbformat": 4,
  "nbformat_minor": 0,
  "metadata": {
    "colab": {
      "name": "firsteptf_3_dhkim.ipynb",
      "version": "0.3.2",
      "provenance": [],
      "collapsed_sections": [],
      "include_colab_link": true
    },
    "kernelspec": {
      "name": "python3",
      "display_name": "Python 3"
    }
  },
  "cells": [
    {
      "cell_type": "markdown",
      "metadata": {
        "id": "view-in-github",
        "colab_type": "text"
      },
      "source": [
        "<a href=\"https://colab.research.google.com/github/d-h-k/w12_tf_ws/blob/master/firsteptf_3_dhkim.ipynb\" target=\"_parent\"><img src=\"https://colab.research.google.com/assets/colab-badge.svg\" alt=\"Open In Colab\"/></a>"
      ]
    },
    {
      "cell_type": "markdown",
      "metadata": {
        "id": "XpRR3j3D0MNA",
        "colab_type": "text"
      },
      "source": [
        "# p91 - 4) 단일 계층 신경망"
      ]
    },
    {
      "cell_type": "code",
      "metadata": {
        "id": "xivWursl0JIH",
        "colab_type": "code",
        "colab": {}
      },
      "source": [
        "import pandas as pd\n",
        "import tensorflow as tf\n",
        "import seaborn as sns\n",
        "import numpy as np\n",
        "\n",
        "#"
      ],
      "execution_count": 0,
      "outputs": []
    },
    {
      "cell_type": "code",
      "metadata": {
        "id": "c6pygL4t0MFC",
        "colab_type": "code",
        "colab": {}
      },
      "source": [
        "(X_train, y_train), (X_test, y_test) = tf.keras.datasets.mnist.load_data()\n",
        "X_train = X_train.astype(np.float32).reshape(-1, 28*28) / 255.0\n",
        "X_test = X_test.astype(np.float32).reshape(-1, 28*28) / 255.0\n",
        "y_train = tf.keras.utils.to_categorical(y_train)\n",
        "y_test = tf.keras.utils.to_categorical(y_test)\n",
        "y_train = y_train.astype(np.int32)\n",
        "y_test = y_test.astype(np.int32)\n"
      ],
      "execution_count": 0,
      "outputs": []
    },
    {
      "cell_type": "markdown",
      "metadata": {
        "id": "098mshCa5QfY",
        "colab_type": "text"
      },
      "source": [
        "배치 데이터를 만들기 위해 파이썬 제너레이터 함수를 정의합니다.\n",
        "\n",
        " - 기존 책에 없던 부분"
      ]
    },
    {
      "cell_type": "code",
      "metadata": {
        "id": "Ge51-uyE5PhN",
        "colab_type": "code",
        "colab": {}
      },
      "source": [
        "def shuffle_batch(X, y, batch_size):\n",
        "    rnd_idx = np.random.permutation(len(X))\n",
        "    n_batches = len(X) // batch_size\n",
        "    for batch_idx in np.array_split(rnd_idx, n_batches):\n",
        "        X_batch, y_batch = X[batch_idx], y[batch_idx]\n",
        "        yield X_batch, y_batch"
      ],
      "execution_count": 0,
      "outputs": []
    },
    {
      "cell_type": "markdown",
      "metadata": {
        "id": "REnH5fFP1iFl",
        "colab_type": "text"
      },
      "source": [
        "## 94p \n",
        " - get shape 함수로 구조를 확인해 보겠습니다\n",
        " - convert_to_tensor 함수를 이용해 텐서로 변환후, get_shape함수를 사용함"
      ]
    },
    {
      "cell_type": "code",
      "metadata": {
        "id": "WjbqQnN41AH3",
        "colab_type": "code",
        "colab": {
          "base_uri": "https://localhost:8080/",
          "height": 34
        },
        "outputId": "4a02e4d2-ae75-46d1-bdac-b145d353ca6a"
      },
      "source": [
        "tf.convert_to_tensor(X_train).get_shape()\n"
      ],
      "execution_count": 14,
      "outputs": [
        {
          "output_type": "execute_result",
          "data": {
            "text/plain": [
              "TensorShape([Dimension(60000), Dimension(784)])"
            ]
          },
          "metadata": {
            "tags": []
          },
          "execution_count": 14
        }
      ]
    },
    {
      "cell_type": "markdown",
      "metadata": {
        "id": "vnixnqVv20Ol",
        "colab_type": "text"
      },
      "source": [
        "- [MNIST 바로가기](http://yann.lecun.com/exdb/mnist/)\n",
        "- [이책의 링크 정리된 네이버블로그](https://m.blog.naver.com/PostView.nhn?blogId=bdm002&logNo=220798277222&proxyReferer=https%3A%2F%2Fwww.google.com%2F)\n",
        "- [박해성님의 블로그](https://tensorflow.blog/)"
      ]
    },
    {
      "cell_type": "markdown",
      "metadata": {
        "id": "zk4f5uAf4rOo",
        "colab_type": "text"
      },
      "source": [
        "가중치 텐서와 바이어스 텐서를 만듭니다.\n",
        "\n"
      ]
    },
    {
      "cell_type": "code",
      "metadata": {
        "id": "eTV_UcwL1eur",
        "colab_type": "code",
        "colab": {}
      },
      "source": [
        "\n",
        "W = tf.Variable(tf.zeros([784,10]))\n",
        "b = tf.Variable(tf.zeros([10]))"
      ],
      "execution_count": 0,
      "outputs": []
    },
    {
      "cell_type": "markdown",
      "metadata": {
        "id": "r3WImWvm4tAs",
        "colab_type": "text"
      },
      "source": [
        "훈련 이미지 데이터를 넣을 플레이스홀더와 소프트맥스 텐서를 만듭니다.\n",
        "\n"
      ]
    },
    {
      "cell_type": "code",
      "metadata": {
        "id": "lK1P6mvo4sqm",
        "colab_type": "code",
        "colab": {}
      },
      "source": [
        "x = tf.placeholder(\"float\", [None, 784])\n",
        "y = tf.nn.softmax(tf.matmul(x,W) + b)"
      ],
      "execution_count": 0,
      "outputs": []
    },
    {
      "cell_type": "markdown",
      "metadata": {
        "id": "IOmbdDtb4wUb",
        "colab_type": "text"
      },
      "source": [
        "실제 레이블을 담기위한 텐서와 교차 엔트로피 방식을 이용하는 그래디언트 디센트 방식을 선택합니다.\n",
        "\n"
      ]
    },
    {
      "cell_type": "code",
      "metadata": {
        "id": "L8WyQYnl4xuG",
        "colab_type": "code",
        "colab": {}
      },
      "source": [
        "y_ = tf.placeholder(\"float\", [None,10])\n",
        "cross_entropy = -tf.reduce_sum(y_*tf.log(y))\n",
        "train_step = tf.train.GradientDescentOptimizer(0.01).minimize(cross_entropy)"
      ],
      "execution_count": 0,
      "outputs": []
    },
    {
      "cell_type": "markdown",
      "metadata": {
        "id": "JUocdmfD46NE",
        "colab_type": "text"
      },
      "source": [
        "변수를 초기화하고 세션을 시작합니다.\n",
        "\n"
      ]
    },
    {
      "cell_type": "code",
      "metadata": {
        "id": "wWKErhkh46_T",
        "colab_type": "code",
        "colab": {}
      },
      "source": [
        "\n",
        "sess = tf.Session()\n",
        "sess.run(tf.global_variables_initializer())"
      ],
      "execution_count": 0,
      "outputs": []
    },
    {
      "cell_type": "markdown",
      "metadata": {
        "id": "AwZ1xaxH49B-",
        "colab_type": "text"
      },
      "source": [
        "1000의 반복을 수행하고 결과를 출력합니다. 최종 정확도는 91% 정도 입니다.\n",
        "\n"
      ]
    },
    {
      "cell_type": "code",
      "metadata": {
        "id": "Rh2Yv5yp4-LU",
        "colab_type": "code",
        "colab": {
          "base_uri": "https://localhost:8080/",
          "height": 194
        },
        "outputId": "a1dc2540-862c-4aa5-84c3-2246d47740fd"
      },
      "source": [
        "for i in range(1000):\n",
        "    batch_xs, batch_ys = next(shuffle_batch(X_train, y_train, 100))\n",
        "    sess.run(train_step, feed_dict={x: batch_xs, y_: batch_ys})\n",
        "    correct_prediction = tf.equal(tf.argmax(y,1), tf.argmax(y_,1))\n",
        "    accuracy = tf.reduce_mean(tf.cast(correct_prediction, \"float\"))\n",
        "    if i % 100 == 0:\n",
        "        print(sess.run(accuracy, feed_dict={x: X_test, y_: y_test}))"
      ],
      "execution_count": 23,
      "outputs": [
        {
          "output_type": "stream",
          "text": [
            "0.4843\n",
            "0.8975\n",
            "0.9055\n",
            "0.9053\n",
            "0.905\n",
            "0.9106\n",
            "0.9124\n",
            "0.9151\n",
            "0.9166\n",
            "0.9163\n"
          ],
          "name": "stdout"
        }
      ]
    },
    {
      "cell_type": "code",
      "metadata": {
        "id": "rg1qwUhs4_Du",
        "colab_type": "code",
        "colab": {
          "base_uri": "https://localhost:8080/",
          "height": 34
        },
        "outputId": "2db1f22a-73d4-4afa-d6a0-cbcb91614a4c"
      },
      "source": [
        "tf.convert_to_tensor(X_train).get_shape()\n"
      ],
      "execution_count": 24,
      "outputs": [
        {
          "output_type": "execute_result",
          "data": {
            "text/plain": [
              "TensorShape([Dimension(60000), Dimension(784)])"
            ]
          },
          "metadata": {
            "tags": []
          },
          "execution_count": 24
        }
      ]
    },
    {
      "cell_type": "markdown",
      "metadata": {
        "id": "jRLLEl1h5ZNc",
        "colab_type": "text"
      },
      "source": [
        "가중치 텐서와 바이어스 텐서를 만듭니다.\n",
        "\n"
      ]
    },
    {
      "cell_type": "code",
      "metadata": {
        "id": "glEXFCWs5a3n",
        "colab_type": "code",
        "colab": {}
      },
      "source": [
        "\n",
        "W = tf.Variable(tf.zeros([784,10]))\n",
        "b = tf.Variable(tf.zeros([10]))"
      ],
      "execution_count": 0,
      "outputs": []
    },
    {
      "cell_type": "markdown",
      "metadata": {
        "id": "8cLnru9M5cKv",
        "colab_type": "text"
      },
      "source": [
        "훈련 이미지 데이터를 넣을 플레이스홀더와 소프트맥스 텐서를 만듭니다.\n",
        "\n"
      ]
    },
    {
      "cell_type": "code",
      "metadata": {
        "id": "7lJeaU4i5c3f",
        "colab_type": "code",
        "colab": {}
      },
      "source": [
        "x = tf.placeholder(\"float\", [None, 784])\n",
        "y = tf.nn.softmax(tf.matmul(x,W) + b)"
      ],
      "execution_count": 0,
      "outputs": []
    },
    {
      "cell_type": "markdown",
      "metadata": {
        "id": "r2cAlSm55edO",
        "colab_type": "text"
      },
      "source": [
        "실제 레이블을 담기위한 텐서와 교차 엔트로피 방식을 이용하는 그래디언트 디센트 방식을 선택합니다.\n",
        "\n"
      ]
    },
    {
      "cell_type": "code",
      "metadata": {
        "id": "Om18G5mb5hX_",
        "colab_type": "code",
        "colab": {}
      },
      "source": [
        "y_ = tf.placeholder(\"float\", [None,10])\n",
        "cross_entropy = -tf.reduce_sum(y_*tf.log(y))\n",
        "train_step = tf.train.GradientDescentOptimizer(0.01).minimize(cross_entropy)"
      ],
      "execution_count": 0,
      "outputs": []
    },
    {
      "cell_type": "markdown",
      "metadata": {
        "id": "vgSE-ICB5iZD",
        "colab_type": "text"
      },
      "source": [
        "변수를 초기화하고 세션을 시작합니다.\n",
        "\n"
      ]
    },
    {
      "cell_type": "code",
      "metadata": {
        "id": "UaWT0SO05kXM",
        "colab_type": "code",
        "colab": {}
      },
      "source": [
        "sess = tf.Session()\n",
        "sess.run(tf.global_variables_initializer())"
      ],
      "execution_count": 0,
      "outputs": []
    },
    {
      "cell_type": "markdown",
      "metadata": {
        "id": "4VGMHCOn5k-c",
        "colab_type": "text"
      },
      "source": [
        "1000의 반복을 수행하고 결과를 출력합니다. 최종 정확도는 91% 정도 입니다.\n",
        "\n"
      ]
    },
    {
      "cell_type": "code",
      "metadata": {
        "id": "TDNdCspS5nII",
        "colab_type": "code",
        "colab": {
          "base_uri": "https://localhost:8080/",
          "height": 194
        },
        "outputId": "57578ab8-5d20-483c-bf2a-5d07966f0dee"
      },
      "source": [
        "for i in range(1000):\n",
        "    batch_xs, batch_ys = next(shuffle_batch(X_train, y_train, 100))\n",
        "    sess.run(train_step, feed_dict={x: batch_xs, y_: batch_ys})\n",
        "    correct_prediction = tf.equal(tf.argmax(y,1), tf.argmax(y_,1))\n",
        "    accuracy = tf.reduce_mean(tf.cast(correct_prediction, \"float\"))\n",
        "    if i % 100 == 0:\n",
        "        print(sess.run(accuracy, feed_dict={x: X_test, y_: y_test}))"
      ],
      "execution_count": 29,
      "outputs": [
        {
          "output_type": "stream",
          "text": [
            "0.228\n",
            "0.8783\n",
            "0.8809\n",
            "0.9081\n",
            "0.9123\n",
            "0.9137\n",
            "0.9125\n",
            "0.9119\n",
            "0.9212\n",
            "0.9125\n"
          ],
          "name": "stdout"
        }
      ]
    },
    {
      "cell_type": "code",
      "metadata": {
        "id": "WEedgKJZ6Ukf",
        "colab_type": "code",
        "colab": {}
      },
      "source": [
        ""
      ],
      "execution_count": 0,
      "outputs": []
    }
  ]
}