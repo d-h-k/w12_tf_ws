{
  "nbformat": 4,
  "nbformat_minor": 0,
  "metadata": {
    "colab": {
      "name": "firsteptf_dhkim.ipynb",
      "version": "0.3.2",
      "provenance": [],
      "collapsed_sections": [],
      "include_colab_link": true
    },
    "kernelspec": {
      "name": "python3",
      "display_name": "Python 3"
    }
  },
  "cells": [
    {
      "cell_type": "markdown",
      "metadata": {
        "id": "view-in-github",
        "colab_type": "text"
      },
      "source": [
        "<a href=\"https://colab.research.google.com/github/d-h-k/w12_tf_ws/blob/master/%20%ED%85%90%EC%84%9C%ED%94%8C%EB%A1%9C%20%EC%B2%AB%EA%B1%B8%EC%9D%8C%201%EC%9E%A5~%202%EC%9E%A5%20%ED%95%99%EC%8A%B5.ipynb\" target=\"_parent\"><img src=\"https://colab.research.google.com/assets/colab-badge.svg\" alt=\"Open In Colab\"/></a>"
      ]
    },
    {
      "cell_type": "markdown",
      "metadata": {
        "id": "D72kfO3S-vtq",
        "colab_type": "text"
      },
      "source": [
        "# 텐서플로 첫걸음 1장~ 2장 학습 \n",
        " 1.   경사하강법\n",
        " 2.   손실함수(비용함수)\n",
        " 3.   선형회귀분석\n",
        "\n"
      ]
    },
    {
      "cell_type": "markdown",
      "metadata": {
        "id": "885h1ms1gv3g",
        "colab_type": "text"
      },
      "source": [
        "## p41 \n",
        " - 텐서플로 예제 시작하기"
      ]
    },
    {
      "cell_type": "code",
      "metadata": {
        "id": "ATcUIr6jgtnr",
        "colab_type": "code",
        "colab": {
          "base_uri": "https://localhost:8080/",
          "height": 34
        },
        "outputId": "b4283349-60b8-441f-dcfe-0d363a62eaea"
      },
      "source": [
        "import tensorflow as tf\n",
        "\n",
        "a=tf.placeholder(\"float\")\n",
        "b=tf.placeholder(\"float\")\n",
        "\n",
        "y = tf.multiply(a,b)\n",
        "\n",
        "sess = tf.Session()\n",
        "\n",
        "print(sess.run(y, feed_dict={a:3, b:3}))"
      ],
      "execution_count": 3,
      "outputs": [
        {
          "output_type": "stream",
          "text": [
            "9.0\n"
          ],
          "name": "stdout"
        }
      ]
    },
    {
      "cell_type": "markdown",
      "metadata": {
        "id": "b6AyLUafkWM2",
        "colab_type": "text"
      },
      "source": [
        "## 텐서보드 출력 예제, 실행안됨 -> 네이티브 환경에서 재 실행"
      ]
    },
    {
      "cell_type": "code",
      "metadata": {
        "id": "0flNK9IXg25O",
        "colab_type": "code",
        "colab": {
          "base_uri": "https://localhost:8080/",
          "height": 129
        },
        "outputId": "36ce6e23-2028-4a8f-b4af-2ea35544549c"
      },
      "source": [
        "tensorboard --logdir='/content'"
      ],
      "execution_count": 8,
      "outputs": [
        {
          "output_type": "error",
          "ename": "SyntaxError",
          "evalue": "ignored",
          "traceback": [
            "\u001b[0;36m  File \u001b[0;32m\"<ipython-input-8-74c34631c0d4>\"\u001b[0;36m, line \u001b[0;32m1\u001b[0m\n\u001b[0;31m    tensorboard --logdir='/content'\u001b[0m\n\u001b[0m                                   ^\u001b[0m\n\u001b[0;31mSyntaxError\u001b[0m\u001b[0;31m:\u001b[0m can't assign to operator\n"
          ]
        }
      ]
    },
    {
      "cell_type": "code",
      "metadata": {
        "id": "3eVlMAnmhO2E",
        "colab_type": "code",
        "colab": {
          "base_uri": "https://localhost:8080/",
          "height": 34
        },
        "outputId": "91d35ed9-8da7-4b1f-8d23-6387f5f5a371"
      },
      "source": [
        "pwd"
      ],
      "execution_count": 6,
      "outputs": [
        {
          "output_type": "execute_result",
          "data": {
            "text/plain": [
              "'/content'"
            ]
          },
          "metadata": {
            "tags": []
          },
          "execution_count": 6
        }
      ]
    },
    {
      "cell_type": "markdown",
      "metadata": {
        "id": "rZ2dzRWFkiCi",
        "colab_type": "text"
      },
      "source": [
        "## p49 변수간 관계에 대한 모델, 선형회귀분석\n",
        "  - 이장에서는 가장 간단한 예제인 선형회귀분석 방법을 이용해서 변수들 사이의 관계를 분석해 보겠습니다.\n",
        "  - 선형회귀는 Linear Regression 이라고 하며, 가장 간단한 형태의 알고리즘 입니다\n",
        "  - 먼저 보이는 코드는 임의의 좌표를 생성하는 코드 입니다"
      ]
    },
    {
      "cell_type": "code",
      "metadata": {
        "id": "rnBV_S9xhVp0",
        "colab_type": "code",
        "colab": {}
      },
      "source": [
        "import numpy as np\n",
        "num_points = 1000\n",
        "vectors_set = []\n",
        "\n",
        "for i in range(num_points):\n",
        "  x1 = np.random.normal(0.0, 0.55)\n",
        "  y1 = x1*0.1+0.3 + np.random.normal(0.0, 0.03)\n",
        "  vectors_set.append([x1,y1])\n",
        "  \n",
        "x_data = ia[v[0] for v in vectors_set]\n",
        "y_data = [v[1] for v in vectors_set]"
      ],
      "execution_count": 0,
      "outputs": []
    },
    {
      "cell_type": "markdown",
      "metadata": {
        "id": "EZdL3Z81lWOH",
        "colab_type": "text"
      },
      "source": [
        " - 아래 코드를 이용, matplotlib 라이브러리를 활용해 좌표축에 점을 찍어보겠습니다"
      ]
    },
    {
      "cell_type": "code",
      "metadata": {
        "id": "IbbEhLQ7iY0e",
        "colab_type": "code",
        "colab": {
          "base_uri": "https://localhost:8080/",
          "height": 269
        },
        "outputId": "db5efb80-f94e-4e9f-832d-59634e3a12b6"
      },
      "source": [
        "import matplotlib.pyplot as plt\n",
        "plt.plot(x_data, y_data, 'ro')\n",
        "plt.show()"
      ],
      "execution_count": 14,
      "outputs": [
        {
          "output_type": "display_data",
          "data": {
            "image/png": "[encoded data removed]",
            "text/plain": [
              "<Figure size 432x288 with 1 Axes>"
            ]
          },
          "metadata": {
            "tags": []
          }
        }
      ]
    },
    {
      "cell_type": "markdown",
      "metadata": {
        "id": "qcq5CU0JlhXK",
        "colab_type": "text"
      },
      "source": [
        "## 51p 비용함수와 경사 하강법 알고리즘\n",
        " - 학습 알고리즘을 훈련\n",
        " - 사실 우리는 위 직선이 선형회귀라는것, 그러니까 y=ax+b 형태의 방정식임을 알고있지만, 컴퓨터에게 직접 알려주지 않고 알아서 찾아가게 만드는 방법 입니다.\n",
        " - 여기서 컴퓨터(머신러닝 프레임워크) W(가중치)와 b 라는 매개변수를 계속 수정 해 가면서 답을 찾아 나갑니다\n",
        " - 지금 잘 하고 있는지 아닌지를 확인하기 위해서 비용함수를 정의합니다. \n",
        " - 비용함수는 오차함수라고도 합니다. 결국 많은 자료들에서 말하는, Cost = error 라는 식이 성립하게 됩니다..\n",
        " - 이번 예제에서는 평균제곱오차를 사용하며, 실제 값과 알고리즘이 반복마다 추정한 값 사이의 거리를 오차로 하는 값의 평균입니다"
      ]
    },
    {
      "cell_type": "markdown",
      "metadata": {
        "id": "qEpBcPQOrEtT",
        "colab_type": "text"
      },
      "source": [
        " - 이제 텐서플로우로 변화를 추정하고 앞으로의 결과를 추론하는 시간\n",
        " - Variable 메서드 호출 시, 텐서플로 내부의 그래프 자료구에 의해 만들어질 하나의 변수를 정의함"
      ]
    },
    {
      "cell_type": "code",
      "metadata": {
        "id": "CCGFZA55iyOS",
        "colab_type": "code",
        "colab": {}
      },
      "source": [
        "import tensorflow as tf\n",
        "\n",
        "W = tf.Variable(tf.random_uniform([1], -1.0, 1.0))\n",
        "b = tf.Variable(tf.zeros([1]))\n",
        "y = W * x_data +b"
      ],
      "execution_count": 0,
      "outputs": []
    },
    {
      "cell_type": "markdown",
      "metadata": {
        "id": "oiwRQhANriZ_",
        "colab_type": "text"
      },
      "source": [
        " - 손실함수? 거리기반으로 비용함수를 제작하겠습니다. 거리 제곱의 합계의 평균을 계산하는데 이렇게 복잡하게 계산하는 이유는 양수음수가 상쇄되는것을 막기 위해서 "
      ]
    },
    {
      "cell_type": "code",
      "metadata": {
        "id": "3_NMPRbjjV5X",
        "colab_type": "code",
        "colab": {}
      },
      "source": [
        "loss = tf.reduce_mean(tf.square(y-y_data))"
      ],
      "execution_count": 0,
      "outputs": []
    },
    {
      "cell_type": "markdown",
      "metadata": {
        "id": "aPScx1NDsF_v",
        "colab_type": "text"
      },
      "source": [
        " - 아래의 메소드는 경사하강법입니다\n",
        " ```\n",
        " GradientDescentOptimizer() \n",
        " ```\n",
        " - train에 의해 호출되는 옵티마이조가 구현되어 있으며, 앞에서 정의한 비용함수(loss) 에다가 경사 하강법 알고리즘을 적용 함"
      ]
    },
    {
      "cell_type": "code",
      "metadata": {
        "id": "AwH0oI7Wjf_o",
        "colab_type": "code",
        "colab": {}
      },
      "source": [
        "optimizer = tf.train.GradientDescentOptimizer(0.5)\n",
        "train = optimizer.minimize(loss)"
      ],
      "execution_count": 0,
      "outputs": []
    },
    {
      "cell_type": "markdown",
      "metadata": {
        "id": "Hf84YsFItXY9",
        "colab_type": "text"
      },
      "source": [
        "## p54 텐서플로 파라미터를 설정했습니다\n",
        " - 라이러리를 불러들이고 파라미터를 설정한것 뿐이며, 실질적인 연산과 추론은 아직 실행되지 않았습니다\n",
        " - 아래 코드를 실행함으로써 최적화된 W와 b를 찾기 위한 연산(계산 혹은 작업)을 수행합니다"
      ]
    },
    {
      "cell_type": "code",
      "metadata": {
        "id": "y6r4P0VajsUl",
        "colab_type": "code",
        "colab": {}
      },
      "source": [
        "#init = tf.initialize_all_variables()\n",
        "init = tf.global_variables_initializer()\n",
        "sess = tf.Session()\n",
        "sess.run(init)"
      ],
      "execution_count": 0,
      "outputs": []
    },
    {
      "cell_type": "markdown",
      "metadata": {
        "id": "hcRQ9-pQt4ld",
        "colab_type": "text"
      },
      "source": [
        " - 아래 코드는 학습을 8번 시키기 위해 range(8)로 설정하였습니다."
      ]
    },
    {
      "cell_type": "code",
      "metadata": {
        "id": "rKcmBQxzm9dC",
        "colab_type": "code",
        "colab": {
          "base_uri": "https://localhost:8080/",
          "height": 51
        },
        "outputId": "30b4f620-920a-4faf-f239-c9d0a32ce5b8"
      },
      "source": [
        "for step in range(8):\n",
        "  sess.run(train)\n",
        "print(sess.run(W),sess.run(b))\n",
        "print('Tensorflow guess : W= %f, b = %f'%(sess.run(W),sess.run(b)) )"
      ],
      "execution_count": 33,
      "outputs": [
        {
          "output_type": "stream",
          "text": [
            "[0.10395154] [0.2998345]\n",
            "Tensorflow guess : W= 0.103952, b = 0.299834\n"
          ],
          "name": "stdout"
        }
      ]
    },
    {
      "cell_type": "markdown",
      "metadata": {
        "id": "Bovw1UhduD7_",
        "colab_type": "text"
      },
      "source": [
        "좀더 직관적으로 그래프로 출력하기 위해서 아래와 같은 코드를 추가합니다( 매스플랏 라이브러리)"
      ]
    },
    {
      "cell_type": "code",
      "metadata": {
        "id": "t-IzPg_Zn0i1",
        "colab_type": "code",
        "colab": {
          "base_uri": "https://localhost:8080/",
          "height": 283
        },
        "outputId": "5278b53f-5a31-497f-c3d0-9812e8f70b57"
      },
      "source": [
        "plt.plot(x_data, y_data, 'ro')\n",
        "plt.plot(x_data, sess.run(W) * x_data + sess.run(b))\n",
        "plt.xlabel('x')\n",
        "plt.ylabel('y')\n",
        "plt.show()"
      ],
      "execution_count": 34,
      "outputs": [
        {
          "output_type": "display_data",
          "data": {
            "image/png": "[encoded data removed]",
            "text/plain": [
              "<Figure size 432x288 with 1 Axes>"
            ]
          },
          "metadata": {
            "tags": []
          }
        }
      ]
    },
    {
      "cell_type": "markdown",
      "metadata": {
        "id": "KohvN4zqqWbF",
        "colab_type": "text"
      },
      "source": [
        " - 위에 점과 텐서플로가 추측한 관계식을 그래프에서 확인할 수 있다\n",
        " - 인간이 아닌 컴퓨터가 추론을 한 예제\n"
      ]
    },
    {
      "cell_type": "code",
      "metadata": {
        "id": "9CbKBo3OpbUN",
        "colab_type": "code",
        "colab": {
          "base_uri": "https://localhost:8080/",
          "height": 153
        },
        "outputId": "1958db2c-142e-45b0-d2f0-c579997667b3"
      },
      "source": [
        "for step in range(8):\n",
        "  sess.run(train)\n",
        "  print(step,sess.run(W),sess.run(b))"
      ],
      "execution_count": 36,
      "outputs": [
        {
          "output_type": "stream",
          "text": [
            "0 [0.10395154] [0.2998345]\n",
            "1 [0.10395154] [0.2998345]\n",
            "2 [0.10395154] [0.2998345]\n",
            "3 [0.10395154] [0.2998345]\n",
            "4 [0.10395154] [0.2998345]\n",
            "5 [0.10395154] [0.2998345]\n",
            "6 [0.10395154] [0.2998345]\n",
            "7 [0.10395154] [0.2998345]\n"
          ],
          "name": "stdout"
        }
      ]
    },
    {
      "cell_type": "code",
      "metadata": {
        "id": "XJRDfqqfqUdh",
        "colab_type": "code",
        "colab": {
          "base_uri": "https://localhost:8080/",
          "height": 153
        },
        "outputId": "33d7098a-6b72-4ed5-853b-976471cefa0c"
      },
      "source": [
        "for step in range(8):\n",
        "  sess.run(train)\n",
        "  print(step,sess.run(loss))"
      ],
      "execution_count": 37,
      "outputs": [
        {
          "output_type": "stream",
          "text": [
            "0 0.00082572247\n",
            "1 0.00082572247\n",
            "2 0.00082572247\n",
            "3 0.00082572247\n",
            "4 0.00082572247\n",
            "5 0.00082572247\n",
            "6 0.00082572247\n",
            "7 0.00082572247\n"
          ],
          "name": "stdout"
        }
      ]
    },
    {
      "cell_type": "markdown",
      "metadata": {
        "id": "zidjDoVTq3QT",
        "colab_type": "text"
      },
      "source": [
        " - 아니 뭐야 처음부터 답을 알고있잖아?!?!? 이게 아닌데..?"
      ]
    },
    {
      "cell_type": "markdown",
      "metadata": {
        "id": "ARJ_DjjouhJy",
        "colab_type": "text"
      },
      "source": [
        "## p60 지금 까지 코드 한방정리"
      ]
    },
    {
      "cell_type": "code",
      "metadata": {
        "id": "2QYQGN2qq1si",
        "colab_type": "code",
        "colab": {
          "base_uri": "https://localhost:8080/",
          "height": 1000
        },
        "outputId": "5fa4b2f6-c792-4456-da0c-c1a8f53e8362"
      },
      "source": [
        "import numpy as np\n",
        "\n",
        "num_points = 1000\n",
        "vectors_set = []\n",
        "\n",
        "for i in range(num_points):\n",
        "  x1 = np.random.normal(0.0, 0.55)\n",
        "  y1 = x1 * 0.1 + 0.3 + np.random.normal(0.0, 0.03)\n",
        "  vectors_set.append([x1,y1])\n",
        "  \n",
        "x_data = [v[0] for v in vectors_set]\n",
        "y_data = [v[1] for v in vectors_set]\n",
        "\n",
        "import matplotlib.pyplot as plt\n",
        "\n",
        "plt.plot(x_data, y_data, 'ro')\n",
        "plt.show()\n",
        "\n",
        "import tensorflow as tf\n",
        "\n",
        "W = tf.Variable(tf.random_uniform([1], -1.0, 1.0))\n",
        "b = tf.Variable(tf.zeros([1]))\n",
        "y = W * x_data +b\n",
        "\n",
        "loss = tf.reduce_mean(tf.square(y-y_data))\n",
        "optimizer = tf.train.GradientDescentOptimizer(0.5)\n",
        "train = optimizer.minimize(loss)\n",
        "\n",
        "init = tf.global_variables_initializer()\n",
        "\n",
        "sess = tf.Session()\n",
        "sess.run(init)\n",
        "\n",
        "for step in range(8):\n",
        "  sess.run(train)\n",
        "  print(step, sess.run(W), sess.run(b))\n",
        "  print(step, sess.run(loss))\n",
        "  \n",
        "  plt.plot(x_data, y_data, 'ro')\n",
        "  plt.plot(x_data, sess.run(W) * x_data + sess.run(b))\n",
        "  plt.xlabel('x')\n",
        "  plt.xlim(-2,2)\n",
        "  plt.ylim(0.1, 0,6)\n",
        "  plt.ylabel('y')\n",
        "  plt.show()\n",
        "  "
      ],
      "execution_count": 42,
      "outputs": [
        {
          "output_type": "display_data",
          "data": {
            "image/png": "[encoded data removed]",
            "text/plain": [
              "<Figure size 432x288 with 1 Axes>"
            ]
          },
          "metadata": {
            "tags": []
          }
        },
        {
          "output_type": "stream",
          "text": [
            "0 [0.52380574] [0.29348862]\n",
            "0 0.055664994\n"
          ],
          "name": "stdout"
        },
        {
          "output_type": "display_data",
          "data": {
            "image/png": "[encoded data removed]",
            "text/plain": [
              "<Figure size 432x288 with 1 Axes>"
            ]
          },
          "metadata": {
            "tags": []
          }
        },
        {
          "output_type": "stream",
          "text": [
            "1 [0.39455545] [0.29563433]\n",
            "1 0.027339248\n"
          ],
          "name": "stdout"
        },
        {
          "output_type": "display_data",
          "data": {
            "image/png": "[encoded data removed]",
            "text/plain": [
              "<Figure size 432x288 with 1 Axes>"
            ]
          },
          "metadata": {
            "tags": []
          }
        },
        {
          "output_type": "stream",
          "text": [
            "2 [0.30471253] [0.29716665]\n",
            "2 0.013652731\n"
          ],
          "name": "stdout"
        },
        {
          "output_type": "display_data",
          "data": {
            "image/png": "[encoded data removed]",
            "text/plain": [
              "<Figure size 432x288 with 1 Axes>"
            ]
          },
          "metadata": {
            "tags": []
          }
        },
        {
          "output_type": "stream",
          "text": [
            "3 [0.24226147] [0.29823178]\n",
            "3 0.007039635\n"
          ],
          "name": "stdout"
        },
        {
          "output_type": "display_data",
          "data": {
            "image/png": "[encoded data removed]",
            "text/plain": [
              "<Figure size 432x288 with 1 Axes>"
            ]
          },
          "metadata": {
            "tags": []
          }
        },
        {
          "output_type": "stream",
          "text": [
            "4 [0.19885087] [0.2989722]\n",
            "4 0.0038442984\n"
          ],
          "name": "stdout"
        },
        {
          "output_type": "display_data",
          "data": {
            "image/png": "[encoded data removed]",
            "text/plain": [
              "<Figure size 432x288 with 1 Axes>"
            ]
          },
          "metadata": {
            "tags": []
          }
        },
        {
          "output_type": "stream",
          "text": [
            "5 [0.16867557] [0.29948685]\n",
            "5 0.0023003656\n"
          ],
          "name": "stdout"
        },
        {
          "output_type": "display_data",
          "data": {
            "image/png": "[encoded data removed]",
            "text/plain": [
              "<Figure size 432x288 with 1 Axes>"
            ]
          },
          "metadata": {
            "tags": []
          }
        },
        {
          "output_type": "stream",
          "text": [
            "6 [0.14770031] [0.29984456]\n",
            "6 0.0015543638\n"
          ],
          "name": "stdout"
        },
        {
          "output_type": "display_data",
          "data": {
            "image/png": "[encoded data removed]",
            "text/plain": [
              "<Figure size 432x288 with 1 Axes>"
            ]
          },
          "metadata": {
            "tags": []
          }
        },
        {
          "output_type": "stream",
          "text": [
            "7 [0.13312012] [0.30009326]\n",
            "7 0.0011939085\n"
          ],
          "name": "stdout"
        },
        {
          "output_type": "display_data",
          "data": {
            "image/png": "[encoded data removed]",
            "text/plain": [
              "<Figure size 432x288 with 1 Axes>"
            ]
          },
          "metadata": {
            "tags": []
          }
        }
      ]
    },
    {
      "cell_type": "markdown",
      "metadata": {
        "id": "-OBgQ3zY-Vpx",
        "colab_type": "text"
      },
      "source": [
        " - 이상으로 선형회귀분석 알고리즘을 사용해서 두개의 필수적인 개념인 비용함수와 경사하강법 알고리즘을 살펴봤습니다."
      ]
    },
    {
      "cell_type": "code",
      "metadata": {
        "id": "4cQ5uYsN9sWN",
        "colab_type": "code",
        "colab": {}
      },
      "source": [
        ""
      ],
      "execution_count": 0,
      "outputs": []
    }
  ]
}