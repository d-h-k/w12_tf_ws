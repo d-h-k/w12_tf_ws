{
  "nbformat": 4,
  "nbformat_minor": 0,
  "metadata": {
    "colab": {
      "name": "W12_TF_cpyfromNamWoo_Day1",
      "version": "0.3.2",
      "provenance": [],
      "collapsed_sections": [],
      "toc_visible": true,
      "include_colab_link": true
    },
    "kernelspec": {
      "name": "python3",
      "display_name": "Python 3"
    },
    "accelerator": "GPU"
  },
  "cells": [
    {
      "cell_type": "markdown",
      "metadata": {
        "id": "view-in-github",
        "colab_type": "text"
      },
      "source": [
        "<a href=\"https://colab.research.google.com/github/d-h-k/w12_tf_ws/blob/master/W12_TF_cpyfromNamWoo_Day1.ipynb\" target=\"_parent\"><img src=\"https://colab.research.google.com/assets/colab-badge.svg\" alt=\"Open In Colab\"/></a>"
      ]
    },
    {
      "cell_type": "markdown",
      "metadata": {
        "id": "GuZB0Mlvj_rW",
        "colab_type": "text"
      },
      "source": [
        ""
      ]
    },
    {
      "cell_type": "code",
      "metadata": {
        "id": "7yUMkf5XizoG",
        "colab_type": "code",
        "outputId": "4af883ee-94cb-4616-e052-017bce9977b4",
        "colab": {
          "base_uri": "https://localhost:8080/",
          "height": 34
        }
      },
      "source": [
        "import tensorflow as tf\n",
        "# sess = tf.Session()\n",
        "\n",
        "with tf.Session() as sess:\n",
        "\n",
        "  x = tf.Variable([1.,2.])    # Variable은 initializer 세션실행 꼭 필요\n",
        "  a = tf.constant([3.,3.])    \n",
        "  # sess.run(x.initializer)\n",
        "  x.initializer.run()         # interactive session 선언 필요\n",
        "  sub = tf.subtract(x,a)\n",
        "  # print(sess.run(sub))\n",
        "  print(sub.eval())           # interactive session 선언 필요\n",
        "  # sess.close()                # with 있으면 알아서 다 해결, 그냥 session 이어도 알아서 해결 또 sess.close() 필요없다.  \n",
        "  # \n",
        "  # with 없이 세션으로 실행 가능. with 는 파이썬 구문이기에 tf랑 호환 안될 때가 있다.\n",
        "\n",
        "\n",
        "  # 오리 타이핑? 덕 타이핑? duck typing "
      ],
      "execution_count": 0,
      "outputs": [
        {
          "output_type": "stream",
          "text": [
            "[-2. -1.]\n"
          ],
          "name": "stdout"
        }
      ]
    },
    {
      "cell_type": "markdown",
      "metadata": {
        "id": "nyHDBivukDB1",
        "colab_type": "text"
      },
      "source": [
        ""
      ]
    },
    {
      "cell_type": "code",
      "metadata": {
        "id": "qcxtwrGtkDP1",
        "colab_type": "code",
        "outputId": "f1b16c6f-8887-40a0-c813-73ae10dfac91",
        "colab": {
          "base_uri": "https://localhost:8080/",
          "height": 87
        }
      },
      "source": [
        "import tensorflow as tf\n",
        "\n",
        "state = tf.Variable(0, name = 'counter')  #name 은 tf 플렛폼에서 쓰는 변수명\n",
        "one = tf.constant(1)\n",
        "new_value = tf.add(state, one)\n",
        "update = tf.assign(state, new_value)\n",
        "init = tf.global_variables_initializer()\n",
        "\n",
        "with tf.Session() as sess:\n",
        "  sess.run(init)\n",
        "  print(\"now\",sess.run(state))\n",
        "  for _ in range(3):\n",
        "    sess.run(update)\n",
        "    print(sess.run(state))  #modify here"
      ],
      "execution_count": 0,
      "outputs": [
        {
          "output_type": "stream",
          "text": [
            "now 0\n",
            "1\n",
            "2\n",
            "3\n"
          ],
          "name": "stdout"
        }
      ]
    },
    {
      "cell_type": "markdown",
      "metadata": {
        "id": "bSiBFTQHp8FI",
        "colab_type": "text"
      },
      "source": [
        "## 실습 \n",
        "\n",
        "13번째 줄 알파벳만 수정해서 출력 0246 으로 바꾸기"
      ]
    },
    {
      "cell_type": "code",
      "metadata": {
        "id": "HotVy9gup7D_",
        "colab_type": "code",
        "outputId": "c36e0a48-b88f-4597-9f56-715ffa1114d8",
        "colab": {
          "base_uri": "https://localhost:8080/",
          "height": 87
        }
      },
      "source": [
        "import tensorflow as tf\n",
        "state = tf.Variable(0, name = 'counter')  #name 은 tf 플렛폼에서 인식하는 변수이름\n",
        "one = tf.constant(1)\n",
        "new_value = tf.add(state, one)\n",
        "update = tf.assign(state, new_value)\n",
        "init = tf.global_variables_initializer()\n",
        "\n",
        "with tf.Session() as sess:\n",
        "  sess.run(init)\n",
        "  print(\"now\",sess.run(state))\n",
        "  for _ in range(3):\n",
        "    sess.run(update)        #값 증가\n",
        "    print(sess.run(update))  #modify here   \n"
      ],
      "execution_count": 0,
      "outputs": [
        {
          "output_type": "stream",
          "text": [
            "now 0\n",
            "2\n",
            "4\n",
            "6\n"
          ],
          "name": "stdout"
        }
      ]
    },
    {
      "cell_type": "markdown",
      "metadata": {
        "id": "Le5I-I8UqwoN",
        "colab_type": "text"
      },
      "source": [
        "*state 대신 update 를 쓰면 !* \n",
        "\n",
        "세션 실행의 의미 : \n",
        "1. 연결된 그래프 연산 수행\n",
        "2. 내용 수행"
      ]
    },
    {
      "cell_type": "markdown",
      "metadata": {
        "id": "a0BatCBprUCC",
        "colab_type": "text"
      },
      "source": [
        "## 실습"
      ]
    },
    {
      "cell_type": "code",
      "metadata": {
        "id": "e8rLckVUrWbw",
        "colab_type": "code",
        "outputId": "4f040feb-be0c-4d9d-8d93-b4a599459590",
        "colab": {
          "base_uri": "https://localhost:8080/",
          "height": 52
        }
      },
      "source": [
        "import tensorflow as tf\n",
        "input1 = tf.constant([3.])\n",
        "input2 = tf.constant([2.])\n",
        "input3 = tf.constant([5.])\n",
        "intermed = tf.add(input2, input3)\n",
        "mul = tf.multiply(input1, intermed) # 랭크가 벡터, 1차원이기 떄문에 matmul 안된다.\n",
        "\n",
        "# LOG_DIR = '/tmp/log'\n",
        "# get_ipython().system_raw(\n",
        "#     'tensorboard --logdir {} --host 0.0.0.0 --port 6006 &'\n",
        "#     .format(LOG_DIR)\n",
        "# )\n",
        "\n",
        "\n",
        "writer = tf.summary.FileWriter(\n",
        "    '/tmp/log', graph = tf.get_default_graph()\n",
        ")   # tf 요약 보고서. json javascript oj로 되어 있다. 읽으려면 다른 라이브러리 사용해야한다.\n",
        "\n",
        "with tf.Session() as sess:\n",
        "  result = sess.run([mul, intermed])\n",
        "  print(result[0])\n",
        "  print(result[1])"
      ],
      "execution_count": 0,
      "outputs": [
        {
          "output_type": "stream",
          "text": [
            "[21.]\n",
            "[7.]\n"
          ],
          "name": "stdout"
        }
      ]
    },
    {
      "cell_type": "code",
      "metadata": {
        "id": "gGQWf3RptPHw",
        "colab_type": "code",
        "outputId": "30a1c8f4-3692-4ad7-9ff4-eb87916c309f",
        "colab": {
          "base_uri": "https://localhost:8080/",
          "height": 52
        }
      },
      "source": [
        "!tensorboard --logdir=LOG_DIR"
      ],
      "execution_count": 0,
      "outputs": [
        {
          "output_type": "stream",
          "text": [
            "TensorBoard 1.14.0 at http://eb173dd4357a:6007/ (Press CTRL+C to quit)\n",
            "^C\n"
          ],
          "name": "stdout"
        }
      ]
    },
    {
      "cell_type": "markdown",
      "metadata": {
        "id": "AYx1SYOFucMo",
        "colab_type": "text"
      },
      "source": [
        "## 텐서보드 코렙 주피터 노트북에서 보는방법 찾기\n",
        "\n"
      ]
    },
    {
      "cell_type": "markdown",
      "metadata": {
        "id": "-3PYeADoui0A",
        "colab_type": "text"
      },
      "source": [
        "## 실습5\n",
        "\n",
        "* placeholder는 type를 인자로 전달 필요\n",
        "* placeholder는 feed_dict의 키값으로 사용"
      ]
    },
    {
      "cell_type": "code",
      "metadata": {
        "id": "Wolw1g0guh6g",
        "colab_type": "code",
        "outputId": "ceabaaa5-6975-490f-ddf1-b04b39734654",
        "colab": {
          "base_uri": "https://localhost:8080/",
          "height": 34
        }
      },
      "source": [
        "import tensorflow as tf\n",
        "input1 = tf.placeholder(tf.float32)\n",
        "input2 = tf.placeholder(tf.float32)\n",
        "output = tf.multiply(input1, input2)\n",
        "\n",
        "with tf.Session() as sess:\n",
        "  result = sess.run([output], {input1:[7.],input2:[2.]})\n",
        "  print(result[0])"
      ],
      "execution_count": 0,
      "outputs": [
        {
          "output_type": "stream",
          "text": [
            "[14.]\n"
          ],
          "name": "stdout"
        }
      ]
    },
    {
      "cell_type": "markdown",
      "metadata": {
        "id": "WPiuLCPNvfoM",
        "colab_type": "text"
      },
      "source": [
        "* 전달하는 인자가 실수값, 타입이 맞아야 한다. \n",
        "* 대부분의 경우에 멀티플라이는 실수를 요소로 사용한다.\n"
      ]
    },
    {
      "cell_type": "markdown",
      "metadata": {
        "id": "AwDqytIX29iO",
        "colab_type": "text"
      },
      "source": [
        "# 실습6 Save"
      ]
    },
    {
      "cell_type": "code",
      "metadata": {
        "id": "bAAVTmyh3FeV",
        "colab_type": "code",
        "outputId": "3ec47183-3942-449c-a0eb-2c58ba428f74",
        "colab": {
          "base_uri": "https://localhost:8080/",
          "height": 34
        }
      },
      "source": [
        "import tensorflow as tf\n",
        "state1 = tf.Variable(0, name='state1')   # name=' state1 ' 공백있으면 오류\n",
        "state2 = tf.Variable(10, name='state2')\n",
        "init_op = tf.global_variables_initializer()\n",
        "saver = tf.train.Saver()\n",
        "with tf.Session() as sess:\n",
        "  sess.run(init_op)\n",
        "  save_path = saver.save(sess, '/content/model.ckpt')\n",
        "  print(\"Model saved in file: \", save_path)\n",
        "  "
      ],
      "execution_count": 0,
      "outputs": [
        {
          "output_type": "stream",
          "text": [
            "Model saved in file:  /content/model.ckpt\n"
          ],
          "name": "stdout"
        }
      ]
    },
    {
      "cell_type": "code",
      "metadata": {
        "id": "V5E5YDjM3_vL",
        "colab_type": "code",
        "outputId": "73304a77-cea1-46bd-a344-28b01c9ce3bf",
        "colab": {
          "base_uri": "https://localhost:8080/",
          "height": 52
        }
      },
      "source": [
        "!ls"
      ],
      "execution_count": 0,
      "outputs": [
        {
          "output_type": "stream",
          "text": [
            "checkpoint\t\t\tmodel.ckpt.index  sample_data\n",
            "model.ckpt.data-00000-of-00001\tmodel.ckpt.meta\n"
          ],
          "name": "stdout"
        }
      ]
    },
    {
      "cell_type": "code",
      "metadata": {
        "id": "hVwTIqfq4CH2",
        "colab_type": "code",
        "outputId": "48e2d342-718e-4f92-926e-6f1e7aacce8a",
        "colab": {
          "base_uri": "https://localhost:8080/",
          "height": 34
        }
      },
      "source": [
        "!model.ckpt.data-00000-of-00001"
      ],
      "execution_count": 0,
      "outputs": [
        {
          "output_type": "stream",
          "text": [
            "/bin/bash: model.ckpt.data-00000-of-00001: command not found\n"
          ],
          "name": "stdout"
        }
      ]
    },
    {
      "cell_type": "markdown",
      "metadata": {
        "id": "xfTaLTzP4vSh",
        "colab_type": "text"
      },
      "source": [
        "# 실습 7 Load - restore"
      ]
    },
    {
      "cell_type": "code",
      "metadata": {
        "id": "07wqgA2d4m0-",
        "colab_type": "code",
        "colab": {}
      },
      "source": [
        "import tensorflow as tf\n",
        "state1 = tf.Variable(0, name='state1')   # name=' state1 ' 공백있으면 오류\n",
        "state2 = tf.Variable(10, name='state2')\n",
        "init_op = tf.global_variables_initializer()\n",
        "saver = tf.train.Saver()\n",
        "with tf.Session() as sess:\n",
        "#   sess.run(init_op)\n",
        "  save_path = saver.restore(sess, '/content/model.ckpt.index')\n",
        "  print(\"Model saved in file: \", save_path)\n",
        "  "
      ],
      "execution_count": 0,
      "outputs": []
    },
    {
      "cell_type": "markdown",
      "metadata": {
        "id": "WcjrF2OF5XvZ",
        "colab_type": "text"
      },
      "source": [
        "# 실습 8"
      ]
    },
    {
      "cell_type": "code",
      "metadata": {
        "id": "bYyoNtYm5RsN",
        "colab_type": "code",
        "outputId": "b244fee1-e0d3-4c1b-9da7-89984523b38f",
        "colab": {
          "base_uri": "https://localhost:8080/",
          "height": 34
        }
      },
      "source": [
        "import tensorflow as tf\n",
        "state1 = tf.Variable(0, name='state1')\n",
        "state2 = tf.Variable(10, name='state2')\n",
        "init_op = tf.global_variables_initializer()\n",
        "saver = tf.train.Saver({\"mys2\":state2})\n",
        "with tf.Session() as sess:\n",
        "  sess.run(init_op)\n",
        "  save_path = saver.save(sess, '/content/model8.ckpt')\n",
        "  print(\"Model saved in file: \", save_path)\n",
        "  "
      ],
      "execution_count": 0,
      "outputs": [
        {
          "output_type": "stream",
          "text": [
            "Model saved in file:  /content/model8.ckpt\n"
          ],
          "name": "stdout"
        }
      ]
    },
    {
      "cell_type": "code",
      "metadata": {
        "id": "GDl53lVE6Nky",
        "colab_type": "code",
        "outputId": "3656863d-ad03-44c3-b09f-e0da014ee161",
        "colab": {
          "base_uri": "https://localhost:8080/",
          "height": 87
        }
      },
      "source": [
        "!ls"
      ],
      "execution_count": 0,
      "outputs": [
        {
          "output_type": "stream",
          "text": [
            "checkpoint\t\t\t model.ckpt.data-00000-of-00001\n",
            "model8.ckpt.data-00000-of-00001  model.ckpt.index\n",
            "model8.ckpt.index\t\t model.ckpt.meta\n",
            "model8.ckpt.meta\t\t sample_data\n"
          ],
          "name": "stdout"
        }
      ]
    },
    {
      "cell_type": "markdown",
      "metadata": {
        "id": "iOWRDo3F5Zmh",
        "colab_type": "text"
      },
      "source": [
        "# 실습 9"
      ]
    },
    {
      "cell_type": "code",
      "metadata": {
        "id": "taD1ONrx5a8V",
        "colab_type": "code",
        "outputId": "909dd952-1c1c-4a0e-fcf9-d469868747c9",
        "colab": {
          "base_uri": "https://localhost:8080/",
          "height": 34
        }
      },
      "source": [
        "import tensorflow as tf\n",
        "state1 = tf.Variable(0, name='state1')\n",
        "state2 = tf.Variable(10, name='state2')\n",
        "init_op = tf.global_variables_initializer()\n",
        "saver = tf.train.Saver({\"mys2\":state2})\n",
        "with tf.Session() as sess:\n",
        "#   sess.run(init_op)\n",
        "  save_path = saver.restore(sess, '/content/model8.ckpt')\n",
        "  print(\"Model saved in file: \", save_path)\n",
        "  "
      ],
      "execution_count": 0,
      "outputs": [
        {
          "output_type": "stream",
          "text": [
            "Model saved in file:  None\n"
          ],
          "name": "stdout"
        }
      ]
    },
    {
      "cell_type": "code",
      "metadata": {
        "id": "wRZ3UPZA6H7-",
        "colab_type": "code",
        "colab": {}
      },
      "source": [
        "1. parameter -> ~.ckpt\n",
        "2. feed data -> ~.tfrecord\n",
        "3. model -> .npz, ~.h5\n",
        "            .pb(protobuf)"
      ],
      "execution_count": 0,
      "outputs": []
    },
    {
      "cell_type": "markdown",
      "metadata": {
        "id": "St_1WNfnkA32",
        "colab_type": "text"
      },
      "source": [
        "# 실습 10\n",
        "\n",
        "* 1.12 0.25 "
      ]
    },
    {
      "cell_type": "code",
      "metadata": {
        "id": "M6gG1J0rkCB6",
        "colab_type": "code",
        "outputId": "3111f9d4-6791-4a51-84fc-8215cd1cec95",
        "colab": {
          "base_uri": "https://localhost:8080/",
          "height": 1000
        }
      },
      "source": [
        "import tensorflow as tf\n",
        "tf.reset_default_graph()\n",
        "x_data = [1., 2., 3.]\n",
        "y_data = [1., 2., 3.]\n",
        "\n",
        "with tf.name_scope(\"Logit_Layer\"):\n",
        "  W = tf.Variable(tf.random_uniform([1], -1., 1.))\n",
        "  b = tf.Variable(tf.random_uniform([1], -1., 1.))\n",
        "  hypothesis = W * x_data + b\n",
        "\n",
        "with tf.name_scope(\"GD_Trainer\"):\n",
        "  cost = tf.reduce_mean(tf.square(hypothesis - y_data))\n",
        "  rate = tf.Variable(0.125)\n",
        "  optimizer = tf.train.GradientDescentOptimizer(rate)\n",
        "  train = optimizer.minimize(cost)\n",
        "  \n",
        "init = tf.global_variables_initializer()\n",
        "sess = tf.Session()\n",
        "sess.run(init)\n",
        "writer = tf.summary.FileWriter('/tmp/log',graph = tf.get_default_graph())\n",
        "\n",
        "print('hypothesis : ',sess.run(hypothesis))\n",
        "\n",
        "for step in range(2001):\n",
        "  sess.run(train)\n",
        "  if step % 20 == 0:\n",
        "    print(step, sess.run(cost), sess.run(W), sess.run(b))\n",
        "sess.close()"
      ],
      "execution_count": 0,
      "outputs": [
        {
          "output_type": "stream",
          "text": [
            "hypothesis :  [-0.4307654  -0.48035502 -0.52994466]\n",
            "0 1.0298768 [1.3655195] [0.23891306]\n",
            "20 0.00018137782 [0.9843582] [0.03555755]\n",
            "40 5.3526615e-05 [0.9915027] [0.01931637]\n",
            "60 1.5796286e-05 [0.9953839] [0.01049346]\n",
            "80 4.6615583e-06 [0.9974924] [0.00570054]\n",
            "100 1.3756577e-06 [0.9986377] [0.00309674]\n",
            "120 4.0599357e-07 [0.99925995] [0.00168231]\n",
            "140 1.1984878e-07 [0.99959797] [0.00091393]\n",
            "160 3.5371354e-08 [0.9997816] [0.00049649]\n",
            "180 1.0437631e-08 [0.9998813] [0.00026965]\n",
            "200 3.0813112e-09 [0.99993557] [0.00014649]\n",
            "220 9.057999e-10 [0.999965] [7.9604426e-05]\n",
            "240 2.681162e-10 [0.999981] [4.325552e-05]\n",
            "260 7.825444e-11 [0.9999896] [2.3486658e-05]\n",
            "280 2.3211063e-11 [0.9999944] [1.2718086e-05]\n",
            "300 6.9964776e-12 [0.999997] [6.9563043e-06]\n",
            "320 2.0842588e-12 [0.99999833] [3.8171256e-06]\n",
            "340 5.684342e-13 [0.9999991] [2.0289863e-06]\n",
            "360 1.9421502e-13 [0.99999946] [1.0852463e-06]\n",
            "380 6.158037e-14 [0.99999964] [7.276185e-07]\n",
            "400 3.7895614e-14 [0.99999976] [4.7926557e-07]\n",
            "420 4.7369517e-15 [0.99999994] [2.011105e-07]\n",
            "440 4.2632564e-14 [1.] [1.4150581e-07]\n",
            "460 4.2632564e-14 [1.] [1.4150581e-07]\n",
            "480 4.2632564e-14 [1.] [1.4150581e-07]\n",
            "500 4.2632564e-14 [1.] [1.4150581e-07]\n",
            "520 4.2632564e-14 [1.] [1.4150581e-07]\n",
            "540 4.2632564e-14 [1.] [1.4150581e-07]\n",
            "560 4.2632564e-14 [1.] [1.4150581e-07]\n",
            "580 4.2632564e-14 [1.] [1.4150581e-07]\n",
            "600 4.2632564e-14 [1.] [1.4150581e-07]\n",
            "620 4.2632564e-14 [1.] [1.4150581e-07]\n",
            "640 4.2632564e-14 [1.] [1.4150581e-07]\n",
            "660 4.2632564e-14 [1.] [1.4150581e-07]\n",
            "680 4.2632564e-14 [1.] [1.4150581e-07]\n",
            "700 4.2632564e-14 [1.] [1.4150581e-07]\n",
            "720 4.2632564e-14 [1.] [1.4150581e-07]\n",
            "740 4.2632564e-14 [1.] [1.4150581e-07]\n",
            "760 4.2632564e-14 [1.] [1.4150581e-07]\n",
            "780 4.2632564e-14 [1.] [1.4150581e-07]\n",
            "800 4.2632564e-14 [1.] [1.4150581e-07]\n",
            "820 4.2632564e-14 [1.] [1.4150581e-07]\n",
            "840 4.2632564e-14 [1.] [1.4150581e-07]\n",
            "860 4.2632564e-14 [1.] [1.4150581e-07]\n",
            "880 4.2632564e-14 [1.] [1.4150581e-07]\n",
            "900 4.2632564e-14 [1.] [1.4150581e-07]\n",
            "920 4.2632564e-14 [1.] [1.4150581e-07]\n",
            "940 4.2632564e-14 [1.] [1.4150581e-07]\n",
            "960 4.2632564e-14 [1.] [1.4150581e-07]\n",
            "980 4.2632564e-14 [1.] [1.4150581e-07]\n",
            "1000 4.2632564e-14 [1.] [1.4150581e-07]\n",
            "1020 4.2632564e-14 [1.] [1.4150581e-07]\n",
            "1040 4.2632564e-14 [1.] [1.4150581e-07]\n",
            "1060 4.2632564e-14 [1.] [1.4150581e-07]\n",
            "1080 4.2632564e-14 [1.] [1.4150581e-07]\n",
            "1100 4.2632564e-14 [1.] [1.4150581e-07]\n",
            "1120 4.2632564e-14 [1.] [1.4150581e-07]\n",
            "1140 4.2632564e-14 [1.] [1.4150581e-07]\n",
            "1160 4.2632564e-14 [1.] [1.4150581e-07]\n",
            "1180 4.2632564e-14 [1.] [1.4150581e-07]\n",
            "1200 4.2632564e-14 [1.] [1.4150581e-07]\n",
            "1220 4.2632564e-14 [1.] [1.4150581e-07]\n",
            "1240 4.2632564e-14 [1.] [1.4150581e-07]\n",
            "1260 4.2632564e-14 [1.] [1.4150581e-07]\n",
            "1280 4.2632564e-14 [1.] [1.4150581e-07]\n",
            "1300 4.2632564e-14 [1.] [1.4150581e-07]\n",
            "1320 4.2632564e-14 [1.] [1.4150581e-07]\n",
            "1340 4.2632564e-14 [1.] [1.4150581e-07]\n",
            "1360 4.2632564e-14 [1.] [1.4150581e-07]\n",
            "1380 4.2632564e-14 [1.] [1.4150581e-07]\n",
            "1400 4.2632564e-14 [1.] [1.4150581e-07]\n",
            "1420 4.2632564e-14 [1.] [1.4150581e-07]\n",
            "1440 4.2632564e-14 [1.] [1.4150581e-07]\n",
            "1460 4.2632564e-14 [1.] [1.4150581e-07]\n",
            "1480 4.2632564e-14 [1.] [1.4150581e-07]\n",
            "1500 4.2632564e-14 [1.] [1.4150581e-07]\n",
            "1520 4.2632564e-14 [1.] [1.4150581e-07]\n",
            "1540 4.2632564e-14 [1.] [1.4150581e-07]\n",
            "1560 4.2632564e-14 [1.] [1.4150581e-07]\n",
            "1580 4.2632564e-14 [1.] [1.4150581e-07]\n",
            "1600 4.2632564e-14 [1.] [1.4150581e-07]\n",
            "1620 4.2632564e-14 [1.] [1.4150581e-07]\n",
            "1640 4.2632564e-14 [1.] [1.4150581e-07]\n",
            "1660 4.2632564e-14 [1.] [1.4150581e-07]\n",
            "1680 4.2632564e-14 [1.] [1.4150581e-07]\n",
            "1700 4.2632564e-14 [1.] [1.4150581e-07]\n",
            "1720 4.2632564e-14 [1.] [1.4150581e-07]\n",
            "1740 4.2632564e-14 [1.] [1.4150581e-07]\n",
            "1760 4.2632564e-14 [1.] [1.4150581e-07]\n",
            "1780 4.2632564e-14 [1.] [1.4150581e-07]\n",
            "1800 4.2632564e-14 [1.] [1.4150581e-07]\n",
            "1820 4.2632564e-14 [1.] [1.4150581e-07]\n",
            "1840 4.2632564e-14 [1.] [1.4150581e-07]\n",
            "1860 4.2632564e-14 [1.] [1.4150581e-07]\n",
            "1880 4.2632564e-14 [1.] [1.4150581e-07]\n",
            "1900 4.2632564e-14 [1.] [1.4150581e-07]\n",
            "1920 4.2632564e-14 [1.] [1.4150581e-07]\n",
            "1940 4.2632564e-14 [1.] [1.4150581e-07]\n",
            "1960 4.2632564e-14 [1.] [1.4150581e-07]\n",
            "1980 4.2632564e-14 [1.] [1.4150581e-07]\n",
            "2000 4.2632564e-14 [1.] [1.4150581e-07]\n"
          ],
          "name": "stdout"
        }
      ]
    },
    {
      "cell_type": "code",
      "metadata": {
        "id": "oCvqEhiXnJGx",
        "colab_type": "code",
        "colab": {}
      },
      "source": [
        ""
      ],
      "execution_count": 0,
      "outputs": []
    }
  ]
}