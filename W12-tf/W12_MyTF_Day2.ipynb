{
  "nbformat": 4,
  "nbformat_minor": 0,
  "metadata": {
    "colab": {
      "name": "W12_MyTF_Day2.ipynb",
      "version": "0.3.2",
      "provenance": [],
      "collapsed_sections": [],
      "toc_visible": true,
      "include_colab_link": true
    },
    "kernelspec": {
      "name": "python3",
      "display_name": "Python 3"
    }
  },
  "cells": [
    {
      "cell_type": "markdown",
      "metadata": {
        "id": "view-in-github",
        "colab_type": "text"
      },
      "source": [
        "<a href=\"https://colab.research.google.com/github/d-h-k/w12_tf_ws/blob/master/W12_MyTF_Day2.ipynb\" target=\"_parent\"><img src=\"https://colab.research.google.com/assets/colab-badge.svg\" alt=\"Open In Colab\"/></a>"
      ]
    },
    {
      "cell_type": "code",
      "metadata": {
        "id": "HOaoz8F2oxTB",
        "colab_type": "code",
        "outputId": "8348dc14-c8cf-4cba-8403-151dd3123135",
        "colab": {
          "base_uri": "https://localhost:8080/",
          "height": 53
        }
      },
      "source": [
        "# OS\n",
        "!cat /etc/issue.net"
      ],
      "execution_count": 0,
      "outputs": [
        {
          "output_type": "stream",
          "text": [
            "Ubuntu 18.04.2 LTS\n",
            "Ubuntu 18.04.2 LTS\n"
          ],
          "name": "stdout"
        }
      ]
    },
    {
      "cell_type": "code",
      "metadata": {
        "id": "XsThPPU4pRzp",
        "colab_type": "code",
        "outputId": "cce9b5b0-a4b9-4a1b-e62d-17cbdf7218c9",
        "colab": {
          "base_uri": "https://localhost:8080/",
          "height": 136
        }
      },
      "source": [
        "import tensorflow as tf\n",
        "#sess = tf.In\n",
        "with tf.Session() as sess:\n",
        "    x =  tf.Variable([1.,2.])\n",
        "    a =  tf.Constant([3.,3.])\n",
        "    x.initializer.run()\n",
        "    sub = tf.subtact(x,a)\n",
        "    print sub.eval()\n"
      ],
      "execution_count": 0,
      "outputs": [
        {
          "output_type": "error",
          "ename": "SyntaxError",
          "evalue": "ignored",
          "traceback": [
            "\u001b[0;36m  File \u001b[0;32m\"<ipython-input-3-8db27c2c706a>\"\u001b[0;36m, line \u001b[0;32m7\u001b[0m\n\u001b[0;31m    print sub.eval()\u001b[0m\n\u001b[0m            ^\u001b[0m\n\u001b[0;31mSyntaxError\u001b[0m\u001b[0;31m:\u001b[0m invalid syntax\n"
          ]
        }
      ]
    },
    {
      "cell_type": "markdown",
      "metadata": {
        "id": "qEpJwTHXhKWo",
        "colab_type": "text"
      },
      "source": [
        ""
      ]
    },
    {
      "cell_type": "code",
      "metadata": {
        "id": "m5rI5C5bhKkW",
        "colab_type": "code",
        "colab": {}
      },
      "source": [
        ""
      ],
      "execution_count": 0,
      "outputs": []
    },
    {
      "cell_type": "code",
      "metadata": {
        "id": "SNgQTlxdql-H",
        "colab_type": "code",
        "outputId": "7517eb49-67e4-4ba0-e181-f77b3d114a86",
        "colab": {
          "base_uri": "https://localhost:8080/",
          "height": 334
        }
      },
      "source": [
        "import tensorflow as tf\n",
        "state = tf.Variable(0,name='counter')\n",
        "one = tf.constant(1)\n",
        "new_value= tf.add(state,one)\n",
        "update = tf.assign(state, new_value)\n",
        "init = tf.global_variables_init"
      ],
      "execution_count": 0,
      "outputs": [
        {
          "output_type": "error",
          "ename": "AttributeError",
          "evalue": "ignored",
          "traceback": [
            "\u001b[0;31m---------------------------------------------------------------------------\u001b[0m",
            "\u001b[0;31mAttributeError\u001b[0m                            Traceback (most recent call last)",
            "\u001b[0;32m<ipython-input-4-a1121225006f>\u001b[0m in \u001b[0;36m<module>\u001b[0;34m()\u001b[0m\n\u001b[1;32m      4\u001b[0m \u001b[0mnew_value\u001b[0m\u001b[0;34m=\u001b[0m \u001b[0mtf\u001b[0m\u001b[0;34m.\u001b[0m\u001b[0madd\u001b[0m\u001b[0;34m(\u001b[0m\u001b[0mstate\u001b[0m\u001b[0;34m,\u001b[0m\u001b[0mone\u001b[0m\u001b[0;34m)\u001b[0m\u001b[0;34m\u001b[0m\u001b[0;34m\u001b[0m\u001b[0m\n\u001b[1;32m      5\u001b[0m \u001b[0mupdate\u001b[0m \u001b[0;34m=\u001b[0m \u001b[0mtf\u001b[0m\u001b[0;34m.\u001b[0m\u001b[0massign\u001b[0m\u001b[0;34m(\u001b[0m\u001b[0mstate\u001b[0m\u001b[0;34m,\u001b[0m \u001b[0mnew_value\u001b[0m\u001b[0;34m)\u001b[0m\u001b[0;34m\u001b[0m\u001b[0;34m\u001b[0m\u001b[0m\n\u001b[0;32m----> 6\u001b[0;31m \u001b[0minit\u001b[0m \u001b[0;34m=\u001b[0m \u001b[0mtf\u001b[0m\u001b[0;34m.\u001b[0m\u001b[0mglobal_variables_init\u001b[0m\u001b[0;34m\u001b[0m\u001b[0;34m\u001b[0m\u001b[0m\n\u001b[0m",
            "\u001b[0;32m/usr/local/lib/python3.6/dist-packages/tensorflow/python/util/deprecation_wrapper.py\u001b[0m in \u001b[0;36m__getattr__\u001b[0;34m(self, name)\u001b[0m\n\u001b[1;32m    104\u001b[0m     \u001b[0;32mif\u001b[0m \u001b[0mname\u001b[0m\u001b[0;34m.\u001b[0m\u001b[0mstartswith\u001b[0m\u001b[0;34m(\u001b[0m\u001b[0;34m'_dw_'\u001b[0m\u001b[0;34m)\u001b[0m\u001b[0;34m:\u001b[0m\u001b[0;34m\u001b[0m\u001b[0;34m\u001b[0m\u001b[0m\n\u001b[1;32m    105\u001b[0m       \u001b[0;32mraise\u001b[0m \u001b[0mAttributeError\u001b[0m\u001b[0;34m(\u001b[0m\u001b[0;34m'Accessing local variables before they are created.'\u001b[0m\u001b[0;34m)\u001b[0m\u001b[0;34m\u001b[0m\u001b[0;34m\u001b[0m\u001b[0m\n\u001b[0;32m--> 106\u001b[0;31m     \u001b[0mattr\u001b[0m \u001b[0;34m=\u001b[0m \u001b[0mgetattr\u001b[0m\u001b[0;34m(\u001b[0m\u001b[0mself\u001b[0m\u001b[0;34m.\u001b[0m\u001b[0m_dw_wrapped_module\u001b[0m\u001b[0;34m,\u001b[0m \u001b[0mname\u001b[0m\u001b[0;34m)\u001b[0m\u001b[0;34m\u001b[0m\u001b[0;34m\u001b[0m\u001b[0m\n\u001b[0m\u001b[1;32m    107\u001b[0m     if (self._dw_warning_count < _PER_MODULE_WARNING_LIMIT and\n\u001b[1;32m    108\u001b[0m         name not in self._dw_deprecated_printed):\n",
            "\u001b[0;31mAttributeError\u001b[0m: module 'tensorflow' has no attribute 'global_variables_init'"
          ]
        }
      ]
    },
    {
      "cell_type": "code",
      "metadata": {
        "id": "43u-COS-q6jB",
        "colab_type": "code",
        "outputId": "22df70b2-b15b-4fa9-bf45-5e3951f3410f",
        "colab": {
          "base_uri": "https://localhost:8080/",
          "height": 370
        }
      },
      "source": [
        "import tensorflow as tf\n",
        "\n",
        "input1 = tf.constant([3.])\n",
        "input2 = tf.constant([2.])\n",
        "input3 = tf.constant([5.])\n",
        "intermed = tf.add(input2, input3)\n",
        "mul = tf.multiply(input1, intermed)\n",
        "writer = tf.train.SummaryWriter(\n",
        "  '/tmp/log', graph = tf.get_default_graph()\n",
        ")\n",
        "\n",
        "with tf.Session() as sess:\n",
        "  result = sess.run([mul, intermed])\n",
        "  print(result[0])\n",
        "  print(result[1])\n",
        "  \n",
        "    "
      ],
      "execution_count": 0,
      "outputs": [
        {
          "output_type": "error",
          "ename": "AttributeError",
          "evalue": "ignored",
          "traceback": [
            "\u001b[0;31m---------------------------------------------------------------------------\u001b[0m",
            "\u001b[0;31mAttributeError\u001b[0m                            Traceback (most recent call last)",
            "\u001b[0;32m<ipython-input-15-4d615945fa6f>\u001b[0m in \u001b[0;36m<module>\u001b[0;34m()\u001b[0m\n\u001b[1;32m      6\u001b[0m \u001b[0mintermed\u001b[0m \u001b[0;34m=\u001b[0m \u001b[0mtf\u001b[0m\u001b[0;34m.\u001b[0m\u001b[0madd\u001b[0m\u001b[0;34m(\u001b[0m\u001b[0minput2\u001b[0m\u001b[0;34m,\u001b[0m \u001b[0minput3\u001b[0m\u001b[0;34m)\u001b[0m\u001b[0;34m\u001b[0m\u001b[0;34m\u001b[0m\u001b[0m\n\u001b[1;32m      7\u001b[0m \u001b[0mmul\u001b[0m \u001b[0;34m=\u001b[0m \u001b[0mtf\u001b[0m\u001b[0;34m.\u001b[0m\u001b[0mmultiply\u001b[0m\u001b[0;34m(\u001b[0m\u001b[0minput1\u001b[0m\u001b[0;34m,\u001b[0m \u001b[0mintermed\u001b[0m\u001b[0;34m)\u001b[0m\u001b[0;34m\u001b[0m\u001b[0;34m\u001b[0m\u001b[0m\n\u001b[0;32m----> 8\u001b[0;31m writer = tf.train.SummaryWriter(\n\u001b[0m\u001b[1;32m      9\u001b[0m   \u001b[0;34m'/tmp/log'\u001b[0m\u001b[0;34m,\u001b[0m \u001b[0mgraph\u001b[0m \u001b[0;34m=\u001b[0m \u001b[0mtf\u001b[0m\u001b[0;34m.\u001b[0m\u001b[0mget_default_graph\u001b[0m\u001b[0;34m(\u001b[0m\u001b[0;34m)\u001b[0m\u001b[0;34m\u001b[0m\u001b[0;34m\u001b[0m\u001b[0m\n\u001b[1;32m     10\u001b[0m )\n",
            "\u001b[0;32m/usr/local/lib/python3.6/dist-packages/tensorflow/python/util/deprecation_wrapper.py\u001b[0m in \u001b[0;36m__getattr__\u001b[0;34m(self, name)\u001b[0m\n\u001b[1;32m    104\u001b[0m     \u001b[0;32mif\u001b[0m \u001b[0mname\u001b[0m\u001b[0;34m.\u001b[0m\u001b[0mstartswith\u001b[0m\u001b[0;34m(\u001b[0m\u001b[0;34m'_dw_'\u001b[0m\u001b[0;34m)\u001b[0m\u001b[0;34m:\u001b[0m\u001b[0;34m\u001b[0m\u001b[0;34m\u001b[0m\u001b[0m\n\u001b[1;32m    105\u001b[0m       \u001b[0;32mraise\u001b[0m \u001b[0mAttributeError\u001b[0m\u001b[0;34m(\u001b[0m\u001b[0;34m'Accessing local variables before they are created.'\u001b[0m\u001b[0;34m)\u001b[0m\u001b[0;34m\u001b[0m\u001b[0;34m\u001b[0m\u001b[0m\n\u001b[0;32m--> 106\u001b[0;31m     \u001b[0mattr\u001b[0m \u001b[0;34m=\u001b[0m \u001b[0mgetattr\u001b[0m\u001b[0;34m(\u001b[0m\u001b[0mself\u001b[0m\u001b[0;34m.\u001b[0m\u001b[0m_dw_wrapped_module\u001b[0m\u001b[0;34m,\u001b[0m \u001b[0mname\u001b[0m\u001b[0;34m)\u001b[0m\u001b[0;34m\u001b[0m\u001b[0;34m\u001b[0m\u001b[0m\n\u001b[0m\u001b[1;32m    107\u001b[0m     if (self._dw_warning_count < _PER_MODULE_WARNING_LIMIT and\n\u001b[1;32m    108\u001b[0m         name not in self._dw_deprecated_printed):\n",
            "\u001b[0;31mAttributeError\u001b[0m: module 'tensorflow._api.v1.train' has no attribute 'SummaryWriter'"
          ]
        }
      ]
    },
    {
      "cell_type": "markdown",
      "metadata": {
        "id": "ifoWsQ63urRR",
        "colab_type": "text"
      },
      "source": [
        "```\n",
        "tf.summary.FileWriter 는 TensorFlow의 이전버전\n",
        "\n",
        "tf.train.SummaryWriter로 바꿔 사용하면 됨\n",
        "```\n",
        "-  안되용..."
      ]
    },
    {
      "cell_type": "code",
      "metadata": {
        "id": "7DNzbVjOuwjh",
        "colab_type": "code",
        "outputId": "40e95df1-459e-497f-afda-5d0d047ea267",
        "colab": {
          "base_uri": "https://localhost:8080/",
          "height": 53
        }
      },
      "source": [
        "import tensorflow as tf\n",
        "input1 = tf.placeholder(tf.float32)\n",
        "input2 = tf.placeholder(tf.float32)\n",
        "output = tf.multiply(input1, input2)\n",
        "with tf.Session() as sess:\n",
        "    result = sess.run([output],{input1:[7.],\n",
        "                      input2:[2.]})\n",
        "    print(result)\n",
        "    print(\"result[0] 출력 결과 :\",result[0])"
      ],
      "execution_count": 0,
      "outputs": [
        {
          "output_type": "stream",
          "text": [
            "[array([14.], dtype=float32)]\n",
            "result[0] 출력 결과 : [14.]\n"
          ],
          "name": "stdout"
        }
      ]
    },
    {
      "cell_type": "markdown",
      "metadata": {
        "id": "25EBksLYvlNr",
        "colab_type": "text"
      },
      "source": [
        "대부분의 멀티플라이는 실수를 사용합니다"
      ]
    },
    {
      "cell_type": "code",
      "metadata": {
        "id": "Hv7i6_eQ3KKF",
        "colab_type": "code",
        "outputId": "e82e7aca-3015-4c76-8941-efe621b13a12",
        "colab": {
          "base_uri": "https://localhost:8080/",
          "height": 35
        }
      },
      "source": [
        "!python --version"
      ],
      "execution_count": 0,
      "outputs": [
        {
          "output_type": "stream",
          "text": [
            "Python 3.6.8\n"
          ],
          "name": "stdout"
        }
      ]
    },
    {
      "cell_type": "markdown",
      "metadata": {
        "id": "WkKe64fK3KoD",
        "colab_type": "text"
      },
      "source": [
        "!python --version"
      ]
    },
    {
      "cell_type": "code",
      "metadata": {
        "id": "_sgMBEzM3mAr",
        "colab_type": "code",
        "outputId": "df98b47c-2c4d-4f89-e634-4d9a86dc4cd1",
        "colab": {
          "base_uri": "https://localhost:8080/",
          "height": 370
        }
      },
      "source": [
        "import tensorflow as tf\n",
        "state1 = tf.Variable(0, name = 'state1')\n",
        "state2 = tf.Variable(10, name = 'state2')\n",
        "init_op = tf.global_variables_initializer()\n",
        "saver = tf.train.Saver({\"mys2\":state2})\n",
        "with tf.Session() as sess:\n",
        "  saver.restore(sess,'/content/model.ckpt')\n",
        "  #save_path = saver.save(sess, '/content/model.ckpt')\n",
        "  print(\"Modle saved in file:\",save_path)"
      ],
      "execution_count": 0,
      "outputs": [
        {
          "output_type": "error",
          "ename": "ValueError",
          "evalue": "ignored",
          "traceback": [
            "\u001b[0;31m---------------------------------------------------------------------------\u001b[0m",
            "\u001b[0;31mValueError\u001b[0m                                Traceback (most recent call last)",
            "\u001b[0;32m<ipython-input-36-dac861696652>\u001b[0m in \u001b[0;36m<module>\u001b[0;34m()\u001b[0m\n\u001b[1;32m      5\u001b[0m \u001b[0msaver\u001b[0m \u001b[0;34m=\u001b[0m \u001b[0mtf\u001b[0m\u001b[0;34m.\u001b[0m\u001b[0mtrain\u001b[0m\u001b[0;34m.\u001b[0m\u001b[0mSaver\u001b[0m\u001b[0;34m(\u001b[0m\u001b[0;34m{\u001b[0m\u001b[0;34m\"mys2\"\u001b[0m\u001b[0;34m:\u001b[0m\u001b[0mstate2\u001b[0m\u001b[0;34m}\u001b[0m\u001b[0;34m)\u001b[0m\u001b[0;34m\u001b[0m\u001b[0;34m\u001b[0m\u001b[0m\n\u001b[1;32m      6\u001b[0m \u001b[0;32mwith\u001b[0m \u001b[0mtf\u001b[0m\u001b[0;34m.\u001b[0m\u001b[0mSession\u001b[0m\u001b[0;34m(\u001b[0m\u001b[0;34m)\u001b[0m \u001b[0;32mas\u001b[0m \u001b[0msess\u001b[0m\u001b[0;34m:\u001b[0m\u001b[0;34m\u001b[0m\u001b[0;34m\u001b[0m\u001b[0m\n\u001b[0;32m----> 7\u001b[0;31m   \u001b[0msaver\u001b[0m\u001b[0;34m.\u001b[0m\u001b[0mrestore\u001b[0m\u001b[0;34m(\u001b[0m\u001b[0msess\u001b[0m\u001b[0;34m,\u001b[0m\u001b[0;34m'/content/model.ckpt'\u001b[0m\u001b[0;34m)\u001b[0m\u001b[0;34m\u001b[0m\u001b[0;34m\u001b[0m\u001b[0m\n\u001b[0m\u001b[1;32m      8\u001b[0m   \u001b[0;31m#save_path = saver.save(sess, '/content/model.ckpt')\u001b[0m\u001b[0;34m\u001b[0m\u001b[0;34m\u001b[0m\u001b[0;34m\u001b[0m\u001b[0m\n\u001b[1;32m      9\u001b[0m   \u001b[0mprint\u001b[0m\u001b[0;34m(\u001b[0m\u001b[0;34m\"Modle saved in file:\"\u001b[0m\u001b[0;34m,\u001b[0m\u001b[0msave_path\u001b[0m\u001b[0;34m)\u001b[0m\u001b[0;34m\u001b[0m\u001b[0;34m\u001b[0m\u001b[0m\n",
            "\u001b[0;32m/usr/local/lib/python3.6/dist-packages/tensorflow/python/training/saver.py\u001b[0m in \u001b[0;36mrestore\u001b[0;34m(self, sess, save_path)\u001b[0m\n\u001b[1;32m   1276\u001b[0m     \u001b[0;32mif\u001b[0m \u001b[0;32mnot\u001b[0m \u001b[0mcheckpoint_management\u001b[0m\u001b[0;34m.\u001b[0m\u001b[0mcheckpoint_exists\u001b[0m\u001b[0;34m(\u001b[0m\u001b[0mcompat\u001b[0m\u001b[0;34m.\u001b[0m\u001b[0mas_text\u001b[0m\u001b[0;34m(\u001b[0m\u001b[0msave_path\u001b[0m\u001b[0;34m)\u001b[0m\u001b[0;34m)\u001b[0m\u001b[0;34m:\u001b[0m\u001b[0;34m\u001b[0m\u001b[0;34m\u001b[0m\u001b[0m\n\u001b[1;32m   1277\u001b[0m       raise ValueError(\"The passed save_path is not a valid checkpoint: \" +\n\u001b[0;32m-> 1278\u001b[0;31m                        compat.as_text(save_path))\n\u001b[0m\u001b[1;32m   1279\u001b[0m \u001b[0;34m\u001b[0m\u001b[0m\n\u001b[1;32m   1280\u001b[0m     \u001b[0mlogging\u001b[0m\u001b[0;34m.\u001b[0m\u001b[0minfo\u001b[0m\u001b[0;34m(\u001b[0m\u001b[0;34m\"Restoring parameters from %s\"\u001b[0m\u001b[0;34m,\u001b[0m \u001b[0mcompat\u001b[0m\u001b[0;34m.\u001b[0m\u001b[0mas_text\u001b[0m\u001b[0;34m(\u001b[0m\u001b[0msave_path\u001b[0m\u001b[0;34m)\u001b[0m\u001b[0;34m)\u001b[0m\u001b[0;34m\u001b[0m\u001b[0;34m\u001b[0m\u001b[0m\n",
            "\u001b[0;31mValueError\u001b[0m: The passed save_path is not a valid checkpoint: /content/model.ckpt"
          ]
        }
      ]
    },
    {
      "cell_type": "markdown",
      "metadata": {
        "id": "YOTIQF0vyz4o",
        "colab_type": "text"
      },
      "source": [
        "# p49 Computation Graph - 실패함, 실습예정"
      ]
    },
    {
      "cell_type": "code",
      "metadata": {
        "id": "lmDUQJcy374n",
        "colab_type": "code",
        "outputId": "e084c811-793e-47e1-ec7f-79d35a96efb6",
        "colab": {
          "base_uri": "https://localhost:8080/",
          "height": 136
        }
      },
      "source": [
        "import tensorflow as tf\n",
        "import numpy as np\n",
        "x_data = np.random.rand(100).astype(np.float32)\n",
        "y_data = x_data * 0.1 + 0.3\n",
        "  \n",
        "  W = tf.Variable(tf.random_uniform([1], -1, 1.))\n",
        "  b = tf.Variable(tf.zeros([1]))\n",
        "  y = W * x_data + b\n",
        "\n",
        "write = tf.summary.FileWrite('/tmp/log')\n",
        "  loss = tf.reduce_mean\n",
        "  optimizer = tf.train.GradientDesentOptimizer(.5)\n",
        "  train = optimizer.minimize(loss)\n",
        "\n",
        "init = tf.global_variables_initializer()\n",
        "sess = tf.Session()\n",
        "writer = tf.summary.FileWriter('/tmp/log',\n",
        "                               graph = tf.get_default_graph())\n",
        "\n",
        "for step in range(201):\n",
        "    sess.run(train)\n",
        "    if step % 20 == 0:\n",
        "      print(step,sess,run(W),sess.run(b))\n"
      ],
      "execution_count": 0,
      "outputs": [
        {
          "output_type": "error",
          "ename": "IndentationError",
          "evalue": "ignored",
          "traceback": [
            "\u001b[0;36m  File \u001b[0;32m\"<ipython-input-44-1996f0094d4c>\"\u001b[0;36m, line \u001b[0;32m6\u001b[0m\n\u001b[0;31m    W = tf.Variable(tf.random_uniform([1], -1, 1.))\u001b[0m\n\u001b[0m    ^\u001b[0m\n\u001b[0;31mIndentationError\u001b[0m\u001b[0;31m:\u001b[0m unexpected indent\n"
          ]
        }
      ]
    },
    {
      "cell_type": "code",
      "metadata": {
        "id": "Uc6eHT5rS6X7",
        "colab_type": "code",
        "outputId": "6cdca750-b8d0-4d0a-e095-1388a51887de",
        "colab": {
          "base_uri": "https://localhost:8080/",
          "height": 35
        }
      },
      "source": [
        "cd ..\n",
        "`"
      ],
      "execution_count": 0,
      "outputs": [
        {
          "output_type": "stream",
          "text": [
            "/content\n"
          ],
          "name": "stdout"
        }
      ]
    },
    {
      "cell_type": "code",
      "metadata": {
        "id": "G68uokJ5TIrz",
        "colab_type": "code",
        "outputId": "3170feab-1458-4e24-b6ac-578e6f50ed5a",
        "colab": {
          "base_uri": "https://localhost:8080/",
          "height": 107
        }
      },
      "source": [
        "ls -al"
      ],
      "execution_count": 0,
      "outputs": [
        {
          "output_type": "stream",
          "text": [
            "total 16\n",
            "drwxr-xr-x 1 root root 4096 Jul 19 16:14 \u001b[0m\u001b[01;34m.\u001b[0m/\n",
            "drwxr-xr-x 1 root root 4096 Jul 30 01:47 \u001b[01;34m..\u001b[0m/\n",
            "drwxr-xr-x 1 root root 4096 Jul 19 16:14 \u001b[01;34m.config\u001b[0m/\n",
            "drwxr-xr-x 1 root root 4096 Jul 19 16:14 \u001b[01;34msample_data\u001b[0m/\n"
          ],
          "name": "stdout"
        }
      ]
    },
    {
      "cell_type": "code",
      "metadata": {
        "id": "mmIfc7cZTNo7",
        "colab_type": "code",
        "outputId": "24c8e7f6-6aac-42b6-a010-c485dc498df7",
        "colab": {
          "base_uri": "https://localhost:8080/",
          "height": 35
        }
      },
      "source": [
        "pwd"
      ],
      "execution_count": 0,
      "outputs": [
        {
          "output_type": "execute_result",
          "data": {
            "text/plain": [
              "'/content'"
            ]
          },
          "metadata": {
            "tags": []
          },
          "execution_count": 43
        }
      ]
    },
    {
      "cell_type": "markdown",
      "metadata": {
        "id": "-KDKOgn_px_h",
        "colab_type": "text"
      },
      "source": [
        "# p57 Cost and Gradient  - 갓남우오딘우주초월존재님의 코드 "
      ]
    },
    {
      "cell_type": "code",
      "metadata": {
        "id": "YBH2FlHlTREj",
        "colab_type": "code",
        "outputId": "5a88fc19-461b-49cd-e2bf-0347f1956d75",
        "colab": {
          "base_uri": "https://localhost:8080/",
          "height": 283
        }
      },
      "source": [
        "import tensorflow as tf\n",
        "import matplotlib.pyplot as plt\n",
        "\n",
        "X = [1., 2., 3.]\n",
        "Y = [1., 2., 3.]\n",
        "m = len(X)\n",
        "\n",
        "W = tf.placeholder(tf.float32)\n",
        "\n",
        "hypothesis = tf.multiply(W, X)\n",
        "# cf. ) tf.mul(W, X) using in the old version\n",
        "cost = tf.reduce_sum(tf.pow(hypothesis-Y, 2)) / m\n",
        "\n",
        "init = tf.global_variables_initializer()\n",
        "#cf.)tf.initialize_all_variables()\n",
        "\n",
        "sess = tf.Session()\n",
        "sess.run(init)\n",
        "\n",
        "W_val, cost_val = [], []\n",
        "\n",
        "for i in range(-30, 51) :\n",
        "  xPos = i * 0.1\n",
        "  yPos = sess.run(cost ,feed_dict={W: xPos})\n",
        "#   print('{:3.1f}, {:3.1f}'.format(xPos, yPos))  # : 앞 형식문자. \n",
        "\n",
        "  W_val.append(xPos)\n",
        "  cost_val.append(yPos)\n",
        "sess. close()\n",
        "\n",
        "# plt.xlim()\n",
        "plt.plot(W_val, cost_val, 'ro')\n",
        "plt.ylabel('Cost')\n",
        "plt.xlabel('W')\n",
        "plt.grid()\n",
        "plt.show()"
      ],
      "execution_count": 0,
      "outputs": [
        {
          "output_type": "display_data",
          "data": {
            "image/png": "[encoded data removed]",
            "text/plain": [
              "<Figure size 432x288 with 1 Axes>"
            ]
          },
          "metadata": {
            "tags": []
          }
        }
      ]
    },
    {
      "cell_type": "markdown",
      "metadata": {
        "id": "CojRl7NAqhql",
        "colab_type": "text"
      },
      "source": [
        "남우형한테 받아서 돌려본 복붙코드 \n",
        "\n",
        "이제부터 진짜 공부뿐이야!!!"
      ]
    },
    {
      "cell_type": "code",
      "metadata": {
        "id": "VRxt68Vaqmoz",
        "colab_type": "code",
        "colab": {}
      },
      "source": [
        "import tensorflow as tf\n",
        "import matplotlib.pyplot as plt\n",
        "\n",
        "X = [1., 2., 3.]\n",
        "Y = [1., 2., 3.]\n",
        "m = len(X)\n",
        "\n",
        "W = tf.placeholder(tf.float32)\n",
        "\n",
        "hypothesis = tf.multiply(W, X)\n",
        "# cf. ) tf.mul(W, X) using in the old version\n",
        "cost = tf.reduce_sum(tf.pow(hypothesis-Y, 2)) / m\n",
        "\n",
        "init = tf.global_variables_initializer()\n",
        "#cf.)tf.initialize_all_variables()\n",
        "\n",
        "sess = tf.Session()\n",
        "sess.run(init)\n",
        "\n",
        "W_val, cost_val = [], []\n",
        "\n",
        "for i in range(-30, 51) :\n",
        "  xPos = i * 0.1\n",
        "  yPos = sess.run(cost ,feed_dict={W: xPos})\n",
        "\n",
        "\n",
        "print(sess.run(hypothesis, {X:5}))  \n",
        "print(sess.run(hypothesis, {X:2.5}))  \n",
        "print(sess.run(hypothesis, {X:2.5, 5}))  \n",
        "sess. close()\n"
      ],
      "execution_count": 0,
      "outputs": []
    },
    {
      "cell_type": "markdown",
      "metadata": {
        "id": "GpUVwPIHrMEb",
        "colab_type": "text"
      },
      "source": [
        "# p59 Linear Regression - 선형 회귀 예제"
      ]
    },
    {
      "cell_type": "code",
      "metadata": {
        "id": "2S4-j3nKrNgS",
        "colab_type": "code",
        "outputId": "02954b6d-fa5e-429e-ccb9-c9f73d4826c3",
        "colab": {
          "base_uri": "https://localhost:8080/",
          "height": 253
        }
      },
      "source": [
        "import tensorflow as tf\n",
        "tf.reset_default_graph()\n",
        "x_data = [1., 2., 3.]\n",
        "y_data = [1., 2., 3.]\n",
        "\n",
        "with tf.name_scope(\"Logit_Layer\"):\n",
        "  W = tf.Variable(tf.random_uniform([1], -1., 1.))\n",
        "  b = tf.Variable(tf.random_uniform([1], -1., 1.))\n",
        "  hypothesis = W * X + b\n",
        "\n",
        "with tf.name_scope(\"GD_Trainer\"):\n",
        "  cost = tf.reduce_mean(tf.square(hypothesis - Y))\n",
        "  rate = tf.Variable(0.125)\n",
        "  optimizer = tf.train.GradientDescentOptimizer(rate)\n",
        "  train = optimizer.minimize(cost)\n",
        "  \n",
        "init = tf.global_variables_initializer()\n",
        "sess = tf.Session()\n",
        "sess.run(init)\n",
        "writer = tf.summary.FileWriter('/tmp/log',graph = tf.get_default_graph())\n",
        "\n",
        "print('hypothesis : ',sess.run(hypothesis))\n",
        "\n",
        "for step in range(2001):\n",
        "  sess.run(train,{X:x_data, Y:y_data})\n",
        "  #sess.run(W), sess.run(b)\n",
        "  \n",
        "  \n",
        "print(sess.run(hypothesis, feed_dict = {X:5}))  \n",
        "print(sess.run(hypothesis, feed_dict = {X:2.5}))  \n",
        "#print(sess.run(hypothesis, {X:2.5, 5}))  \n",
        "  \n",
        "if step % 20 == 0:\n",
        "  print(step, sess.run(cost), sess.run(W), sess.run(b))\n",
        "sess.close()"
      ],
      "execution_count": 0,
      "outputs": [
        {
          "output_type": "stream",
          "text": [
            "hypothesis :  [0.7132311  0.86175346 1.0102758 ]\n"
          ],
          "name": "stdout"
        },
        {
          "output_type": "error",
          "ename": "TypeError",
          "evalue": "ignored",
          "traceback": [
            "\u001b[0;31m---------------------------------------------------------------------------\u001b[0m",
            "\u001b[0;31mTypeError\u001b[0m                                 Traceback (most recent call last)",
            "\u001b[0;32m<ipython-input-59-25766d1184dc>\u001b[0m in \u001b[0;36m<module>\u001b[0;34m()\u001b[0m\n\u001b[1;32m     23\u001b[0m \u001b[0;34m\u001b[0m\u001b[0m\n\u001b[1;32m     24\u001b[0m \u001b[0;32mfor\u001b[0m \u001b[0mstep\u001b[0m \u001b[0;32min\u001b[0m \u001b[0mrange\u001b[0m\u001b[0;34m(\u001b[0m\u001b[0;36m2001\u001b[0m\u001b[0;34m)\u001b[0m\u001b[0;34m:\u001b[0m\u001b[0;34m\u001b[0m\u001b[0;34m\u001b[0m\u001b[0m\n\u001b[0;32m---> 25\u001b[0;31m   \u001b[0msess\u001b[0m\u001b[0;34m.\u001b[0m\u001b[0mrun\u001b[0m\u001b[0;34m(\u001b[0m\u001b[0mtrain\u001b[0m\u001b[0;34m,\u001b[0m\u001b[0;34m{\u001b[0m\u001b[0mX\u001b[0m\u001b[0;34m:\u001b[0m\u001b[0mx_data\u001b[0m\u001b[0;34m,\u001b[0m \u001b[0mY\u001b[0m\u001b[0;34m:\u001b[0m\u001b[0my_data\u001b[0m\u001b[0;34m}\u001b[0m\u001b[0;34m)\u001b[0m\u001b[0;34m\u001b[0m\u001b[0;34m\u001b[0m\u001b[0m\n\u001b[0m\u001b[1;32m     26\u001b[0m   \u001b[0;31m#sess.run(W), sess.run(b)\u001b[0m\u001b[0;34m\u001b[0m\u001b[0;34m\u001b[0m\u001b[0;34m\u001b[0m\u001b[0m\n\u001b[1;32m     27\u001b[0m \u001b[0;34m\u001b[0m\u001b[0m\n",
            "\u001b[0;31mTypeError\u001b[0m: unhashable type: 'list'"
          ]
        }
      ]
    },
    {
      "cell_type": "markdown",
      "metadata": {
        "id": "Glmmq0qGyPTA",
        "colab_type": "text"
      },
      "source": [
        "# p60--미완성"
      ]
    },
    {
      "cell_type": "code",
      "metadata": {
        "id": "zQzldpVCruFu",
        "colab_type": "code",
        "outputId": "bd33ac66-d1dc-42c3-8e15-255f308f0304",
        "colab": {
          "base_uri": "https://localhost:8080/",
          "height": 1000
        }
      },
      "source": [
        "import tensorflow as tf\n",
        "\n",
        "x_data = [1., 2., 3., 4.]\n",
        "y_data = [2., 4., 6., 8.]\n",
        "\n",
        "# range is -100 ~ 100\n",
        "W = tf.Variable(tf.random_uniform ([1], -100., 100.))\n",
        "b = tf.Variable(tf.random_uniform([1], -100., 100.))\n",
        "\n",
        "X = tf.placeholder(tf.float32)\n",
        "Y = tf.placeholder(tf.float32)\n",
        "\n",
        "hypothesis = W * X + b\n",
        "cost = tf.reduce_mean(tf.square(hypothesis - Y))\n",
        "rate = tf.Variable(0.1)\n",
        "optimizer = tf.train.GradientDescentOptimizer(rate)\n",
        "train = optimizer.minimize (cost )\n",
        "\n",
        "init = tf.global_variables_initializer()\n",
        "#cf.)tf.initialize_all_variables() using in the old version\n",
        "\n",
        "sess = tf.Session()\n",
        "sess.run(init)\n",
        "\n",
        "for step in range(2001):\n",
        "  sess.run(train, feed_dict={X: x_data, Y: y_data})\n",
        "  if step% 20 == 0:\n",
        "    print(step, sess.run(cost, feed_dict={X: x_data, Y: y_data}), sess.run(W), sess.run(b))\n",
        "    \n",
        "\n",
        "print(sess.run(hypothesis, feed_dict={X : 5}))\n",
        "print(sess.run(hypothesis, feed_dict={X : 2.5}))\n",
        "print(sess.run(hypothesis, feed_dict={X: [2.5, 5]}))"
      ],
      "execution_count": 0,
      "outputs": [
        {
          "output_type": "stream",
          "text": [
            "0 20841.797 [65.35371] [-32.58808]\n",
            "20 116.57625 [11.001488] [-26.414316]\n",
            "40 34.559135 [6.8926296] [-14.38491]\n",
            "60 10.245288 [4.663928] [-7.8322735]\n",
            "80 3.037284 [3.4504511] [-4.264503]\n",
            "100 0.900423 [2.789739] [-2.3219295]\n",
            "120 0.2669364 [2.4299963] [-1.2642403]\n",
            "140 0.079135105 [2.2341235] [-0.6883516]\n",
            "160 0.023460167 [2.1274753] [-0.37479258]\n",
            "180 0.00695492 [2.0694072] [-0.20406649]\n",
            "200 0.0020618306 [2.037791] [-0.11110974]\n",
            "220 0.000611239 [2.0205762] [-0.06049687]\n",
            "240 0.00018120851 [2.011203] [-0.03293929]\n",
            "260 5.372027e-05 [2.0061002] [-0.0179347]\n",
            "280 1.5926265e-05 [2.0033212] [-0.00976507]\n",
            "300 4.721306e-06 [2.0018084] [-0.00531685]\n",
            "320 1.3994986e-06 [2.0009847] [-0.00289497]\n",
            "340 4.1486834e-07 [2.0005362] [-0.00157621]\n",
            "360 1.2301663e-07 [2.000292] [-0.00085821]\n",
            "380 3.648174e-08 [2.0001588] [-0.00046738]\n",
            "400 1.07967395e-08 [2.0000865] [-0.00025442]\n",
            "420 3.2069813e-09 [2.0000472] [-0.00013846]\n",
            "440 9.470824e-10 [2.0000255] [-7.5358024e-05]\n",
            "460 2.803091e-10 [2.0000136] [-4.1049603e-05]\n",
            "480 8.5563556e-11 [2.0000074] [-2.2393346e-05]\n",
            "500 2.4659386e-11 [2.000004] [-1.2248639e-05]\n",
            "520 6.924239e-12 [2.0000021] [-6.514671e-06]\n",
            "540 1.922018e-12 [2.0000012] [-3.4986763e-06]\n",
            "560 7.1409545e-13 [2.0000007] [-2.0145203e-06]\n",
            "580 4.5830006e-13 [2.0000005] [-1.3171459e-06]\n",
            "600 1.030287e-13 [2.0000002] [-6.3765305e-07]\n",
            "620 1.030287e-13 [2.0000002] [-6.018901e-07]\n",
            "640 1.030287e-13 [2.0000002] [-6.018901e-07]\n",
            "660 1.030287e-13 [2.0000002] [-6.018901e-07]\n",
            "680 1.030287e-13 [2.0000002] [-6.018901e-07]\n",
            "700 1.030287e-13 [2.0000002] [-6.018901e-07]\n",
            "720 1.030287e-13 [2.0000002] [-6.018901e-07]\n",
            "740 1.030287e-13 [2.0000002] [-6.018901e-07]\n",
            "760 1.030287e-13 [2.0000002] [-6.018901e-07]\n",
            "780 1.030287e-13 [2.0000002] [-6.018901e-07]\n",
            "800 1.030287e-13 [2.0000002] [-6.018901e-07]\n",
            "820 1.030287e-13 [2.0000002] [-6.018901e-07]\n",
            "840 1.030287e-13 [2.0000002] [-6.018901e-07]\n",
            "860 1.030287e-13 [2.0000002] [-6.018901e-07]\n",
            "880 1.030287e-13 [2.0000002] [-6.018901e-07]\n",
            "900 1.030287e-13 [2.0000002] [-6.018901e-07]\n",
            "920 1.030287e-13 [2.0000002] [-6.018901e-07]\n",
            "940 1.030287e-13 [2.0000002] [-6.018901e-07]\n",
            "960 1.030287e-13 [2.0000002] [-6.018901e-07]\n",
            "980 1.030287e-13 [2.0000002] [-6.018901e-07]\n",
            "1000 1.030287e-13 [2.0000002] [-6.018901e-07]\n",
            "1020 1.030287e-13 [2.0000002] [-6.018901e-07]\n",
            "1040 1.030287e-13 [2.0000002] [-6.018901e-07]\n",
            "1060 1.030287e-13 [2.0000002] [-6.018901e-07]\n",
            "1080 1.030287e-13 [2.0000002] [-6.018901e-07]\n",
            "1100 1.030287e-13 [2.0000002] [-6.018901e-07]\n",
            "1120 1.030287e-13 [2.0000002] [-6.018901e-07]\n",
            "1140 1.030287e-13 [2.0000002] [-6.018901e-07]\n",
            "1160 1.030287e-13 [2.0000002] [-6.018901e-07]\n",
            "1180 1.030287e-13 [2.0000002] [-6.018901e-07]\n",
            "1200 1.030287e-13 [2.0000002] [-6.018901e-07]\n",
            "1220 1.030287e-13 [2.0000002] [-6.018901e-07]\n",
            "1240 1.030287e-13 [2.0000002] [-6.018901e-07]\n",
            "1260 1.030287e-13 [2.0000002] [-6.018901e-07]\n",
            "1280 1.030287e-13 [2.0000002] [-6.018901e-07]\n",
            "1300 1.030287e-13 [2.0000002] [-6.018901e-07]\n",
            "1320 1.030287e-13 [2.0000002] [-6.018901e-07]\n",
            "1340 1.030287e-13 [2.0000002] [-6.018901e-07]\n",
            "1360 1.030287e-13 [2.0000002] [-6.018901e-07]\n",
            "1380 1.030287e-13 [2.0000002] [-6.018901e-07]\n",
            "1400 1.030287e-13 [2.0000002] [-6.018901e-07]\n",
            "1420 1.030287e-13 [2.0000002] [-6.018901e-07]\n",
            "1440 1.030287e-13 [2.0000002] [-6.018901e-07]\n",
            "1460 1.030287e-13 [2.0000002] [-6.018901e-07]\n",
            "1480 1.030287e-13 [2.0000002] [-6.018901e-07]\n",
            "1500 1.030287e-13 [2.0000002] [-6.018901e-07]\n",
            "1520 1.030287e-13 [2.0000002] [-6.018901e-07]\n",
            "1540 1.030287e-13 [2.0000002] [-6.018901e-07]\n",
            "1560 1.030287e-13 [2.0000002] [-6.018901e-07]\n",
            "1580 1.030287e-13 [2.0000002] [-6.018901e-07]\n",
            "1600 1.030287e-13 [2.0000002] [-6.018901e-07]\n",
            "1620 1.030287e-13 [2.0000002] [-6.018901e-07]\n",
            "1640 1.030287e-13 [2.0000002] [-6.018901e-07]\n",
            "1660 1.030287e-13 [2.0000002] [-6.018901e-07]\n",
            "1680 1.030287e-13 [2.0000002] [-6.018901e-07]\n",
            "1700 1.030287e-13 [2.0000002] [-6.018901e-07]\n",
            "1720 1.030287e-13 [2.0000002] [-6.018901e-07]\n",
            "1740 1.030287e-13 [2.0000002] [-6.018901e-07]\n",
            "1760 1.030287e-13 [2.0000002] [-6.018901e-07]\n",
            "1780 1.030287e-13 [2.0000002] [-6.018901e-07]\n",
            "1800 1.030287e-13 [2.0000002] [-6.018901e-07]\n",
            "1820 1.030287e-13 [2.0000002] [-6.018901e-07]\n",
            "1840 1.030287e-13 [2.0000002] [-6.018901e-07]\n",
            "1860 1.030287e-13 [2.0000002] [-6.018901e-07]\n",
            "1880 1.030287e-13 [2.0000002] [-6.018901e-07]\n",
            "1900 1.030287e-13 [2.0000002] [-6.018901e-07]\n",
            "1920 1.030287e-13 [2.0000002] [-6.018901e-07]\n",
            "1940 1.030287e-13 [2.0000002] [-6.018901e-07]\n",
            "1960 1.030287e-13 [2.0000002] [-6.018901e-07]\n",
            "1980 1.030287e-13 [2.0000002] [-6.018901e-07]\n",
            "2000 1.030287e-13 [2.0000002] [-6.018901e-07]\n",
            "[10.]\n",
            "[5.]\n",
            "[ 5. 10.]\n"
          ],
          "name": "stdout"
        }
      ]
    },
    {
      "cell_type": "markdown",
      "metadata": {
        "id": "xXqFEAswt6Fg",
        "colab_type": "text"
      },
      "source": [
        ""
      ]
    },
    {
      "cell_type": "code",
      "metadata": {
        "id": "y8npw3irtvaF",
        "colab_type": "code",
        "outputId": "cfbb5d4a-069b-4a6b-aa4e-f05b994b71cd",
        "colab": {
          "resources": {
            "http://localhost:8080/nbextensions/google.colab/files.js": {
              "data": "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",
              "ok": true,
              "headers": [
                [
                  "content-type",
                  "application/javascript"
                ]
              ],
              "status": 200,
              "status_text": "OK"
            }
          },
          "base_uri": "https://localhost:8080/",
          "height": 48
        }
      },
      "source": [
        "from google.colab import files\n",
        "uploaded = files.upload()"
      ],
      "execution_count": 0,
      "outputs": [
        {
          "output_type": "display_data",
          "data": {
            "text/html": [
              "\n",
              "     <input type=\"file\" id=\"files-5f8ae279-3fc0-4300-b24f-eeaae6c8ee25\" name=\"files[]\" multiple disabled />\n",
              "     <output id=\"result-5f8ae279-3fc0-4300-b24f-eeaae6c8ee25\">\n",
              "      Upload widget is only available when the cell has been executed in the\n",
              "      current browser session. Please rerun this cell to enable.\n",
              "      </output>\n",
              "      <script src=\"/nbextensions/google.colab/files.js\"></script> "
            ],
            "text/plain": [
              "<IPython.core.display.HTML object>"
            ]
          },
          "metadata": {
            "tags": []
          }
        }
      ]
    },
    {
      "cell_type": "markdown",
      "metadata": {
        "id": "1hZHSdMGuSip",
        "colab_type": "text"
      },
      "source": [
        "# 딥러닝 따라가기 유틸리티\n",
        "구글의 뭔가를 올린다는거같은데..?\n",
        "## 김태영님의 코랩 사용법\n",
        "```\n",
        "https://tykimos.github.io/2019/01/22/colab_getting_started/\n",
        "```\n",
        "\n",
        "## 갓남우님의 코랩 \n",
        "```\n",
        "https://colab.research.google.com/drive/1Sh8oyIhVgYIbXY2NhYv8k14WtfnrtKGj#scrollTo=2DCXK4pKcGMX\n",
        "```\n",
        "\n",
        "## 콤퓨터의 신이시여 저에게 힘을 !! ㅠㅠㅠ\n",
        "```\n",
        "아직 뭐가 뭔지 모르겠다..\n",
        "```"
      ]
    },
    {
      "cell_type": "markdown",
      "metadata": {
        "id": "2nltdupBvHRN",
        "colab_type": "text"
      },
      "source": [
        "# Page60"
      ]
    },
    {
      "cell_type": "code",
      "metadata": {
        "id": "cMFDI69BvKKM",
        "colab_type": "code",
        "outputId": "408e3e87-8638-4073-c732-247fe8805f2c",
        "colab": {
          "base_uri": "https://localhost:8080/",
          "height": 1000
        }
      },
      "source": [
        "import tensorflow as tf\n",
        "\n",
        "x_data = [1., 2., 3., 4.]\n",
        "y_data = [2., 4., 6., 8.]\n",
        "\n",
        "# range is -100 ~ 100\n",
        "W = tf.Variable(tf.random_uniform ([1], -100., 100.))\n",
        "b = tf.Variable(tf.random_uniform([1], -100., 100.))\n",
        "\n",
        "X = tf.placeholder(tf.float32)\n",
        "Y = tf.placeholder(tf.float32)\n",
        "\n",
        "hypothesis = W * X + b\n",
        "cost = tf.reduce_mean(tf.square(hypothesis - Y))\n",
        "rate = tf.Variable(0.1)\n",
        "optimizer = tf.train.GradientDescentOptimizer(rate)\n",
        "train = optimizer.minimize (cost )\n",
        "init = tf.global_variables_initializer()\n",
        "sess = tf.Session()\n",
        "sess.run(init)\n",
        "\n",
        "for step in range(2001):\n",
        "  sess.run(train, feed_dict = {X=})\n",
        "  if step% 20 == 0:\n",
        "    print(step, sess.run(cost, feed_dict={X: x_data, Y: y_data}), sess.run(W), sess.run(b))\n",
        "    \n",
        "\n",
        "print(sess.run(hypothesis, feed_dict={X : 5}))\n",
        "print(sess.run(hypothesis, feed_dict={X : 2.5}))\n",
        "print(sess.run(hypothesis, feed_dict={X: [2.5, 5]}))"
      ],
      "execution_count": 0,
      "outputs": [
        {
          "output_type": "stream",
          "text": [
            "0 3294.1348 [-1.4740793] [65.94817]\n",
            "20 179.25009 [-9.137027] [32.76277]\n",
            "40 53.139797 [-4.0669475] [17.837572]\n",
            "60 15.75365 [-1.3033229] [9.712172]\n",
            "80 4.670277 [0.201412] [5.2880683]\n",
            "100 1.384535 [1.0207077] [2.8792388]\n",
            "120 0.4104547 [1.4667965] [1.5676833]\n",
            "140 0.12168198 [1.7096822] [0.85356975]\n",
            "160 0.03607346 [1.8419282] [0.46475038]\n",
            "180 0.010694238 [1.9139334] [0.25304654]\n",
            "200 0.0031703701 [1.9531386] [0.13777836]\n",
            "220 0.0009398747 [1.974485] [0.07501737]\n",
            "240 0.00027863443 [1.9861076] [0.04084532]\n",
            "260 8.2603154e-05 [1.9924359] [0.02223939]\n",
            "280 2.448783e-05 [1.9958816] [0.01210887]\n",
            "300 7.259577e-06 [1.9977576] [0.006593]\n",
            "320 2.1522774e-06 [1.9987792] [0.0035897]\n",
            "340 6.3801986e-07 [1.9993353] [0.00195454]\n",
            "360 1.8910477e-07 [1.999638] [0.00106416]\n",
            "380 5.6064223e-08 [1.9998028] [0.00057944]\n",
            "400 1.661472e-08 [1.9998927] [0.00031553]\n",
            "420 4.9358846e-09 [1.9999416] [0.00017185]\n",
            "440 1.466347e-09 [1.9999682] [9.358658e-05]\n",
            "460 4.3054627e-10 [1.9999827] [5.0993098e-05]\n",
            "480 1.2990142e-10 [1.9999906] [2.7759212e-05]\n",
            "500 3.7630343e-11 [1.9999949] [1.5123027e-05]\n",
            "520 1.114131e-11 [1.9999971] [8.208889e-06]\n",
            "540 3.524292e-12 [1.9999985] [4.4776393e-06]\n",
            "560 1.2505552e-12 [1.9999993] [2.5345282e-06]\n",
            "580 3.410605e-13 [1.9999995] [1.3305147e-06]\n",
            "600 1.1368684e-13 [1.9999998] [7.3446813e-07]\n",
            "620 1.1368684e-13 [1.9999999] [5.675751e-07]\n",
            "640 1.4210855e-14 [1.9999999] [4.2452407e-07]\n",
            "660 1.1368684e-13 [1.9999999] [2.0994753e-07]\n",
            "680 0.0 [2.] [1.1458009e-07]\n",
            "700 0.0 [2.] [1.1458009e-07]\n",
            "720 0.0 [2.] [1.1458009e-07]\n",
            "740 0.0 [2.] [1.1458009e-07]\n",
            "760 0.0 [2.] [1.1458009e-07]\n",
            "780 0.0 [2.] [1.1458009e-07]\n",
            "800 0.0 [2.] [1.1458009e-07]\n",
            "820 0.0 [2.] [1.1458009e-07]\n",
            "840 0.0 [2.] [1.1458009e-07]\n",
            "860 0.0 [2.] [1.1458009e-07]\n",
            "880 0.0 [2.] [1.1458009e-07]\n",
            "900 0.0 [2.] [1.1458009e-07]\n",
            "920 0.0 [2.] [1.1458009e-07]\n",
            "940 0.0 [2.] [1.1458009e-07]\n",
            "960 0.0 [2.] [1.1458009e-07]\n",
            "980 0.0 [2.] [1.1458009e-07]\n",
            "1000 0.0 [2.] [1.1458009e-07]\n",
            "1020 0.0 [2.] [1.1458009e-07]\n",
            "1040 0.0 [2.] [1.1458009e-07]\n",
            "1060 0.0 [2.] [1.1458009e-07]\n",
            "1080 0.0 [2.] [1.1458009e-07]\n",
            "1100 0.0 [2.] [1.1458009e-07]\n",
            "1120 0.0 [2.] [1.1458009e-07]\n",
            "1140 0.0 [2.] [1.1458009e-07]\n",
            "1160 0.0 [2.] [1.1458009e-07]\n",
            "1180 0.0 [2.] [1.1458009e-07]\n",
            "1200 0.0 [2.] [1.1458009e-07]\n",
            "1220 0.0 [2.] [1.1458009e-07]\n",
            "1240 0.0 [2.] [1.1458009e-07]\n",
            "1260 0.0 [2.] [1.1458009e-07]\n",
            "1280 0.0 [2.] [1.1458009e-07]\n",
            "1300 0.0 [2.] [1.1458009e-07]\n",
            "1320 0.0 [2.] [1.1458009e-07]\n",
            "1340 0.0 [2.] [1.1458009e-07]\n",
            "1360 0.0 [2.] [1.1458009e-07]\n",
            "1380 0.0 [2.] [1.1458009e-07]\n",
            "1400 0.0 [2.] [1.1458009e-07]\n",
            "1420 0.0 [2.] [1.1458009e-07]\n",
            "1440 0.0 [2.] [1.1458009e-07]\n",
            "1460 0.0 [2.] [1.1458009e-07]\n",
            "1480 0.0 [2.] [1.1458009e-07]\n",
            "1500 0.0 [2.] [1.1458009e-07]\n",
            "1520 0.0 [2.] [1.1458009e-07]\n",
            "1540 0.0 [2.] [1.1458009e-07]\n",
            "1560 0.0 [2.] [1.1458009e-07]\n",
            "1580 0.0 [2.] [1.1458009e-07]\n",
            "1600 0.0 [2.] [1.1458009e-07]\n",
            "1620 0.0 [2.] [1.1458009e-07]\n",
            "1640 0.0 [2.] [1.1458009e-07]\n",
            "1660 0.0 [2.] [1.1458009e-07]\n",
            "1680 0.0 [2.] [1.1458009e-07]\n",
            "1700 0.0 [2.] [1.1458009e-07]\n",
            "1720 0.0 [2.] [1.1458009e-07]\n",
            "1740 0.0 [2.] [1.1458009e-07]\n",
            "1760 0.0 [2.] [1.1458009e-07]\n",
            "1780 0.0 [2.] [1.1458009e-07]\n",
            "1800 0.0 [2.] [1.1458009e-07]\n",
            "1820 0.0 [2.] [1.1458009e-07]\n",
            "1840 0.0 [2.] [1.1458009e-07]\n",
            "1860 0.0 [2.] [1.1458009e-07]\n",
            "1880 0.0 [2.] [1.1458009e-07]\n",
            "1900 0.0 [2.] [1.1458009e-07]\n",
            "1920 0.0 [2.] [1.1458009e-07]\n",
            "1940 0.0 [2.] [1.1458009e-07]\n",
            "1960 0.0 [2.] [1.1458009e-07]\n",
            "1980 0.0 [2.] [1.1458009e-07]\n",
            "2000 0.0 [2.] [1.1458009e-07]\n",
            "[10.]\n",
            "[5.]\n",
            "[ 5. 10.]\n"
          ],
          "name": "stdout"
        }
      ]
    },
    {
      "cell_type": "markdown",
      "metadata": {
        "id": "p8DSxVfQ3eES",
        "colab_type": "text"
      },
      "source": [
        "## p60 이어서 - 왜안되징"
      ]
    },
    {
      "cell_type": "code",
      "metadata": {
        "id": "mqcwxxpc2CNK",
        "colab_type": "code",
        "outputId": "e959b2e1-af12-43f4-f314-f76ed6330dde",
        "colab": {
          "base_uri": "https://localhost:8080/",
          "height": 1000
        }
      },
      "source": [
        "import tensorflow as tf\n",
        "\n",
        "x_data = [1., 2., 3., 4.]\n",
        "y_data = [2., 4., 6., 8.]\n",
        "X = tf.placeholder(tf.float32)\n",
        "Y = tf.placeholder(tf.float32)\n",
        "\n",
        "with tf.name_scope(\"Logit_layer\"):\n",
        "  # range is -100 ~ 100\n",
        "  W2 = tf.Variable(tf.random_uniform ([1], -100., 100.))\n",
        "  #b = tf.Variable(tf.random_uniform([1], -100., 100.))\n",
        "  #X = tf.placeholder(tf.float32)\n",
        "  #Y = tf.placeholder(tf.float32)\n",
        "  hypothesis = W2 * X # + b\n",
        "  \n",
        "with tf.name_scope(\"GD_Trainer\"):\n",
        "  cost = tf.reduce_mean(tf.square(hypothesis - Y))\n",
        "  rate = tf.Variable(0.1)\n",
        "  gradient = tf.reduce_mean((W2 * X -Y) * X)\n",
        "  desent = W2 - rate *gradient\n",
        "  update = tf.assign(W2,desent)\n",
        "  #optimizer = tf.train.GradientDescentOptimizer(rate)\n",
        "  #train = optimizer.minimize (cost )\n",
        "  \n",
        "init = tf.global_variables_initializer()\n",
        "sess = tf.Session()\n",
        "sess.run(init)\n",
        "writer = tf.summary.FileWriter('/content/log', graph = tf.get_default_graph())\n",
        "\n",
        "\n",
        "#여기서부터 train\n",
        "for step in range(2001):\n",
        "  sess.run(train, feed_dict = {X:x_data, Y:y_data})\n",
        "  if step% 20 == 0:\n",
        "    print(step, sess.run(cost, feed_dict={X: x_data, Y: y_data}), sess.run(W), sess.run(b))\n",
        "    \n",
        "\n",
        "print(sess.run(hypothesis, feed_dict={X : 5}))\n",
        "print(sess.run(hypothesis, feed_dict={X : 2.5}))\n",
        "print(sess.run(hypothesis, feed_dict={X: [2.5, 5]}))"
      ],
      "execution_count": 0,
      "outputs": [
        {
          "output_type": "error",
          "ename": "InvalidArgumentError",
          "evalue": "ignored",
          "traceback": [
            "\u001b[0;31m---------------------------------------------------------------------------\u001b[0m",
            "\u001b[0;31mInvalidArgumentError\u001b[0m                      Traceback (most recent call last)",
            "\u001b[0;32m/usr/local/lib/python3.6/dist-packages/tensorflow/python/client/session.py\u001b[0m in \u001b[0;36m_do_call\u001b[0;34m(self, fn, *args)\u001b[0m\n\u001b[1;32m   1355\u001b[0m     \u001b[0;32mtry\u001b[0m\u001b[0;34m:\u001b[0m\u001b[0;34m\u001b[0m\u001b[0;34m\u001b[0m\u001b[0m\n\u001b[0;32m-> 1356\u001b[0;31m       \u001b[0;32mreturn\u001b[0m \u001b[0mfn\u001b[0m\u001b[0;34m(\u001b[0m\u001b[0;34m*\u001b[0m\u001b[0margs\u001b[0m\u001b[0;34m)\u001b[0m\u001b[0;34m\u001b[0m\u001b[0;34m\u001b[0m\u001b[0m\n\u001b[0m\u001b[1;32m   1357\u001b[0m     \u001b[0;32mexcept\u001b[0m \u001b[0merrors\u001b[0m\u001b[0;34m.\u001b[0m\u001b[0mOpError\u001b[0m \u001b[0;32mas\u001b[0m \u001b[0me\u001b[0m\u001b[0;34m:\u001b[0m\u001b[0;34m\u001b[0m\u001b[0;34m\u001b[0m\u001b[0m\n",
            "\u001b[0;32m/usr/local/lib/python3.6/dist-packages/tensorflow/python/client/session.py\u001b[0m in \u001b[0;36m_run_fn\u001b[0;34m(feed_dict, fetch_list, target_list, options, run_metadata)\u001b[0m\n\u001b[1;32m   1340\u001b[0m       return self._call_tf_sessionrun(\n\u001b[0;32m-> 1341\u001b[0;31m           options, feed_dict, fetch_list, target_list, run_metadata)\n\u001b[0m\u001b[1;32m   1342\u001b[0m \u001b[0;34m\u001b[0m\u001b[0m\n",
            "\u001b[0;32m/usr/local/lib/python3.6/dist-packages/tensorflow/python/client/session.py\u001b[0m in \u001b[0;36m_call_tf_sessionrun\u001b[0;34m(self, options, feed_dict, fetch_list, target_list, run_metadata)\u001b[0m\n\u001b[1;32m   1428\u001b[0m         \u001b[0mself\u001b[0m\u001b[0;34m.\u001b[0m\u001b[0m_session\u001b[0m\u001b[0;34m,\u001b[0m \u001b[0moptions\u001b[0m\u001b[0;34m,\u001b[0m \u001b[0mfeed_dict\u001b[0m\u001b[0;34m,\u001b[0m \u001b[0mfetch_list\u001b[0m\u001b[0;34m,\u001b[0m \u001b[0mtarget_list\u001b[0m\u001b[0;34m,\u001b[0m\u001b[0;34m\u001b[0m\u001b[0;34m\u001b[0m\u001b[0m\n\u001b[0;32m-> 1429\u001b[0;31m         run_metadata)\n\u001b[0m\u001b[1;32m   1430\u001b[0m \u001b[0;34m\u001b[0m\u001b[0m\n",
            "\u001b[0;31mInvalidArgumentError\u001b[0m: You must feed a value for placeholder tensor 'Placeholder_11' with dtype float\n\t [[{{node Placeholder_11}}]]",
            "\nDuring handling of the above exception, another exception occurred:\n",
            "\u001b[0;31mInvalidArgumentError\u001b[0m                      Traceback (most recent call last)",
            "\u001b[0;32m<ipython-input-79-94fc858ac38f>\u001b[0m in \u001b[0;36m<module>\u001b[0;34m()\u001b[0m\n\u001b[1;32m     31\u001b[0m \u001b[0;31m#여기서부터 train\u001b[0m\u001b[0;34m\u001b[0m\u001b[0;34m\u001b[0m\u001b[0;34m\u001b[0m\u001b[0m\n\u001b[1;32m     32\u001b[0m \u001b[0;32mfor\u001b[0m \u001b[0mstep\u001b[0m \u001b[0;32min\u001b[0m \u001b[0mrange\u001b[0m\u001b[0;34m(\u001b[0m\u001b[0;36m2001\u001b[0m\u001b[0;34m)\u001b[0m\u001b[0;34m:\u001b[0m\u001b[0;34m\u001b[0m\u001b[0;34m\u001b[0m\u001b[0m\n\u001b[0;32m---> 33\u001b[0;31m   \u001b[0msess\u001b[0m\u001b[0;34m.\u001b[0m\u001b[0mrun\u001b[0m\u001b[0;34m(\u001b[0m\u001b[0mtrain\u001b[0m\u001b[0;34m,\u001b[0m \u001b[0mfeed_dict\u001b[0m \u001b[0;34m=\u001b[0m \u001b[0;34m{\u001b[0m\u001b[0mX\u001b[0m\u001b[0;34m:\u001b[0m\u001b[0mx_data\u001b[0m\u001b[0;34m,\u001b[0m \u001b[0mY\u001b[0m\u001b[0;34m:\u001b[0m\u001b[0my_data\u001b[0m\u001b[0;34m}\u001b[0m\u001b[0;34m)\u001b[0m\u001b[0;34m\u001b[0m\u001b[0;34m\u001b[0m\u001b[0m\n\u001b[0m\u001b[1;32m     34\u001b[0m   \u001b[0;32mif\u001b[0m \u001b[0mstep\u001b[0m\u001b[0;34m%\u001b[0m \u001b[0;36m20\u001b[0m \u001b[0;34m==\u001b[0m \u001b[0;36m0\u001b[0m\u001b[0;34m:\u001b[0m\u001b[0;34m\u001b[0m\u001b[0;34m\u001b[0m\u001b[0m\n\u001b[1;32m     35\u001b[0m     \u001b[0mprint\u001b[0m\u001b[0;34m(\u001b[0m\u001b[0mstep\u001b[0m\u001b[0;34m,\u001b[0m \u001b[0msess\u001b[0m\u001b[0;34m.\u001b[0m\u001b[0mrun\u001b[0m\u001b[0;34m(\u001b[0m\u001b[0mcost\u001b[0m\u001b[0;34m,\u001b[0m \u001b[0mfeed_dict\u001b[0m\u001b[0;34m=\u001b[0m\u001b[0;34m{\u001b[0m\u001b[0mX\u001b[0m\u001b[0;34m:\u001b[0m \u001b[0mx_data\u001b[0m\u001b[0;34m,\u001b[0m \u001b[0mY\u001b[0m\u001b[0;34m:\u001b[0m \u001b[0my_data\u001b[0m\u001b[0;34m}\u001b[0m\u001b[0;34m)\u001b[0m\u001b[0;34m,\u001b[0m \u001b[0msess\u001b[0m\u001b[0;34m.\u001b[0m\u001b[0mrun\u001b[0m\u001b[0;34m(\u001b[0m\u001b[0mW\u001b[0m\u001b[0;34m)\u001b[0m\u001b[0;34m,\u001b[0m \u001b[0msess\u001b[0m\u001b[0;34m.\u001b[0m\u001b[0mrun\u001b[0m\u001b[0;34m(\u001b[0m\u001b[0mb\u001b[0m\u001b[0;34m)\u001b[0m\u001b[0;34m)\u001b[0m\u001b[0;34m\u001b[0m\u001b[0;34m\u001b[0m\u001b[0m\n",
            "\u001b[0;32m/usr/local/lib/python3.6/dist-packages/tensorflow/python/client/session.py\u001b[0m in \u001b[0;36mrun\u001b[0;34m(self, fetches, feed_dict, options, run_metadata)\u001b[0m\n\u001b[1;32m    948\u001b[0m     \u001b[0;32mtry\u001b[0m\u001b[0;34m:\u001b[0m\u001b[0;34m\u001b[0m\u001b[0;34m\u001b[0m\u001b[0m\n\u001b[1;32m    949\u001b[0m       result = self._run(None, fetches, feed_dict, options_ptr,\n\u001b[0;32m--> 950\u001b[0;31m                          run_metadata_ptr)\n\u001b[0m\u001b[1;32m    951\u001b[0m       \u001b[0;32mif\u001b[0m \u001b[0mrun_metadata\u001b[0m\u001b[0;34m:\u001b[0m\u001b[0;34m\u001b[0m\u001b[0;34m\u001b[0m\u001b[0m\n\u001b[1;32m    952\u001b[0m         \u001b[0mproto_data\u001b[0m \u001b[0;34m=\u001b[0m \u001b[0mtf_session\u001b[0m\u001b[0;34m.\u001b[0m\u001b[0mTF_GetBuffer\u001b[0m\u001b[0;34m(\u001b[0m\u001b[0mrun_metadata_ptr\u001b[0m\u001b[0;34m)\u001b[0m\u001b[0;34m\u001b[0m\u001b[0;34m\u001b[0m\u001b[0m\n",
            "\u001b[0;32m/usr/local/lib/python3.6/dist-packages/tensorflow/python/client/session.py\u001b[0m in \u001b[0;36m_run\u001b[0;34m(self, handle, fetches, feed_dict, options, run_metadata)\u001b[0m\n\u001b[1;32m   1171\u001b[0m     \u001b[0;32mif\u001b[0m \u001b[0mfinal_fetches\u001b[0m \u001b[0;32mor\u001b[0m \u001b[0mfinal_targets\u001b[0m \u001b[0;32mor\u001b[0m \u001b[0;34m(\u001b[0m\u001b[0mhandle\u001b[0m \u001b[0;32mand\u001b[0m \u001b[0mfeed_dict_tensor\u001b[0m\u001b[0;34m)\u001b[0m\u001b[0;34m:\u001b[0m\u001b[0;34m\u001b[0m\u001b[0;34m\u001b[0m\u001b[0m\n\u001b[1;32m   1172\u001b[0m       results = self._do_run(handle, final_targets, final_fetches,\n\u001b[0;32m-> 1173\u001b[0;31m                              feed_dict_tensor, options, run_metadata)\n\u001b[0m\u001b[1;32m   1174\u001b[0m     \u001b[0;32melse\u001b[0m\u001b[0;34m:\u001b[0m\u001b[0;34m\u001b[0m\u001b[0;34m\u001b[0m\u001b[0m\n\u001b[1;32m   1175\u001b[0m       \u001b[0mresults\u001b[0m \u001b[0;34m=\u001b[0m \u001b[0;34m[\u001b[0m\u001b[0;34m]\u001b[0m\u001b[0;34m\u001b[0m\u001b[0;34m\u001b[0m\u001b[0m\n",
            "\u001b[0;32m/usr/local/lib/python3.6/dist-packages/tensorflow/python/client/session.py\u001b[0m in \u001b[0;36m_do_run\u001b[0;34m(self, handle, target_list, fetch_list, feed_dict, options, run_metadata)\u001b[0m\n\u001b[1;32m   1348\u001b[0m     \u001b[0;32mif\u001b[0m \u001b[0mhandle\u001b[0m \u001b[0;32mis\u001b[0m \u001b[0;32mNone\u001b[0m\u001b[0;34m:\u001b[0m\u001b[0;34m\u001b[0m\u001b[0;34m\u001b[0m\u001b[0m\n\u001b[1;32m   1349\u001b[0m       return self._do_call(_run_fn, feeds, fetches, targets, options,\n\u001b[0;32m-> 1350\u001b[0;31m                            run_metadata)\n\u001b[0m\u001b[1;32m   1351\u001b[0m     \u001b[0;32melse\u001b[0m\u001b[0;34m:\u001b[0m\u001b[0;34m\u001b[0m\u001b[0;34m\u001b[0m\u001b[0m\n\u001b[1;32m   1352\u001b[0m       \u001b[0;32mreturn\u001b[0m \u001b[0mself\u001b[0m\u001b[0;34m.\u001b[0m\u001b[0m_do_call\u001b[0m\u001b[0;34m(\u001b[0m\u001b[0m_prun_fn\u001b[0m\u001b[0;34m,\u001b[0m \u001b[0mhandle\u001b[0m\u001b[0;34m,\u001b[0m \u001b[0mfeeds\u001b[0m\u001b[0;34m,\u001b[0m \u001b[0mfetches\u001b[0m\u001b[0;34m)\u001b[0m\u001b[0;34m\u001b[0m\u001b[0;34m\u001b[0m\u001b[0m\n",
            "\u001b[0;32m/usr/local/lib/python3.6/dist-packages/tensorflow/python/client/session.py\u001b[0m in \u001b[0;36m_do_call\u001b[0;34m(self, fn, *args)\u001b[0m\n\u001b[1;32m   1368\u001b[0m           \u001b[0;32mpass\u001b[0m\u001b[0;34m\u001b[0m\u001b[0;34m\u001b[0m\u001b[0m\n\u001b[1;32m   1369\u001b[0m       \u001b[0mmessage\u001b[0m \u001b[0;34m=\u001b[0m \u001b[0merror_interpolation\u001b[0m\u001b[0;34m.\u001b[0m\u001b[0minterpolate\u001b[0m\u001b[0;34m(\u001b[0m\u001b[0mmessage\u001b[0m\u001b[0;34m,\u001b[0m \u001b[0mself\u001b[0m\u001b[0;34m.\u001b[0m\u001b[0m_graph\u001b[0m\u001b[0;34m)\u001b[0m\u001b[0;34m\u001b[0m\u001b[0;34m\u001b[0m\u001b[0m\n\u001b[0;32m-> 1370\u001b[0;31m       \u001b[0;32mraise\u001b[0m \u001b[0mtype\u001b[0m\u001b[0;34m(\u001b[0m\u001b[0me\u001b[0m\u001b[0;34m)\u001b[0m\u001b[0;34m(\u001b[0m\u001b[0mnode_def\u001b[0m\u001b[0;34m,\u001b[0m \u001b[0mop\u001b[0m\u001b[0;34m,\u001b[0m \u001b[0mmessage\u001b[0m\u001b[0;34m)\u001b[0m\u001b[0;34m\u001b[0m\u001b[0;34m\u001b[0m\u001b[0m\n\u001b[0m\u001b[1;32m   1371\u001b[0m \u001b[0;34m\u001b[0m\u001b[0m\n\u001b[1;32m   1372\u001b[0m   \u001b[0;32mdef\u001b[0m \u001b[0m_extend_graph\u001b[0m\u001b[0;34m(\u001b[0m\u001b[0mself\u001b[0m\u001b[0;34m)\u001b[0m\u001b[0;34m:\u001b[0m\u001b[0;34m\u001b[0m\u001b[0;34m\u001b[0m\u001b[0m\n",
            "\u001b[0;31mInvalidArgumentError\u001b[0m: You must feed a value for placeholder tensor 'Placeholder_11' with dtype float\n\t [[node Placeholder_11 (defined at <ipython-input-67-234f642deeb3>:11) ]]\n\nOriginal stack trace for 'Placeholder_11':\n  File \"/usr/lib/python3.6/runpy.py\", line 193, in _run_module_as_main\n    \"__main__\", mod_spec)\n  File \"/usr/lib/python3.6/runpy.py\", line 85, in _run_code\n    exec(code, run_globals)\n  File \"/usr/local/lib/python3.6/dist-packages/ipykernel_launcher.py\", line 16, in <module>\n    app.launch_new_instance()\n  File \"/usr/local/lib/python3.6/dist-packages/traitlets/config/application.py\", line 658, in launch_instance\n    app.start()\n  File \"/usr/local/lib/python3.6/dist-packages/ipykernel/kernelapp.py\", line 477, in start\n    ioloop.IOLoop.instance().start()\n  File \"/usr/local/lib/python3.6/dist-packages/tornado/ioloop.py\", line 888, in start\n    handler_func(fd_obj, events)\n  File \"/usr/local/lib/python3.6/dist-packages/tornado/stack_context.py\", line 277, in null_wrapper\n    return fn(*args, **kwargs)\n  File \"/usr/local/lib/python3.6/dist-packages/zmq/eventloop/zmqstream.py\", line 450, in _handle_events\n    self._handle_recv()\n  File \"/usr/local/lib/python3.6/dist-packages/zmq/eventloop/zmqstream.py\", line 480, in _handle_recv\n    self._run_callback(callback, msg)\n  File \"/usr/local/lib/python3.6/dist-packages/zmq/eventloop/zmqstream.py\", line 432, in _run_callback\n    callback(*args, **kwargs)\n  File \"/usr/local/lib/python3.6/dist-packages/tornado/stack_context.py\", line 277, in null_wrapper\n    return fn(*args, **kwargs)\n  File \"/usr/local/lib/python3.6/dist-packages/ipykernel/kernelbase.py\", line 283, in dispatcher\n    return self.dispatch_shell(stream, msg)\n  File \"/usr/local/lib/python3.6/dist-packages/ipykernel/kernelbase.py\", line 235, in dispatch_shell\n    handler(stream, idents, msg)\n  File \"/usr/local/lib/python3.6/dist-packages/ipykernel/kernelbase.py\", line 399, in execute_request\n    user_expressions, allow_stdin)\n  File \"/usr/local/lib/python3.6/dist-packages/ipykernel/ipkernel.py\", line 196, in do_execute\n    res = shell.run_cell(code, store_history=store_history, silent=silent)\n  File \"/usr/local/lib/python3.6/dist-packages/ipykernel/zmqshell.py\", line 533, in run_cell\n    return super(ZMQInteractiveShell, self).run_cell(*args, **kwargs)\n  File \"/usr/local/lib/python3.6/dist-packages/IPython/core/interactiveshell.py\", line 2718, in run_cell\n    interactivity=interactivity, compiler=compiler, result=result)\n  File \"/usr/local/lib/python3.6/dist-packages/IPython/core/interactiveshell.py\", line 2822, in run_ast_nodes\n    if self.run_code(code, result):\n  File \"/usr/local/lib/python3.6/dist-packages/IPython/core/interactiveshell.py\", line 2882, in run_code\n    exec(code_obj, self.user_global_ns, self.user_ns)\n  File \"<ipython-input-67-234f642deeb3>\", line 11, in <module>\n    Y = tf.placeholder(tf.float32)\n  File \"/usr/local/lib/python3.6/dist-packages/tensorflow/python/ops/array_ops.py\", line 2143, in placeholder\n    return gen_array_ops.placeholder(dtype=dtype, shape=shape, name=name)\n  File \"/usr/local/lib/python3.6/dist-packages/tensorflow/python/ops/gen_array_ops.py\", line 6262, in placeholder\n    \"Placeholder\", dtype=dtype, shape=shape, name=name)\n  File \"/usr/local/lib/python3.6/dist-packages/tensorflow/python/framework/op_def_library.py\", line 788, in _apply_op_helper\n    op_def=op_def)\n  File \"/usr/local/lib/python3.6/dist-packages/tensorflow/python/util/deprecation.py\", line 507, in new_func\n    return func(*args, **kwargs)\n  File \"/usr/local/lib/python3.6/dist-packages/tensorflow/python/framework/ops.py\", line 3616, in create_op\n    op_def=op_def)\n  File \"/usr/local/lib/python3.6/dist-packages/tensorflow/python/framework/ops.py\", line 2005, in __init__\n    self._traceback = tf_stack.extract_stack()\n"
          ]
        }
      ]
    },
    {
      "cell_type": "markdown",
      "metadata": {
        "id": "pu7-1_uu5lwU",
        "colab_type": "text"
      },
      "source": [
        "## 나는 왜 안되는걸까 ㅜㅠㅜ//이거슨 갓남우님의 코"
      ]
    },
    {
      "cell_type": "code",
      "metadata": {
        "id": "ajC4O0s-6ch0",
        "colab_type": "code",
        "colab": {}
      },
      "source": [
        ""
      ],
      "execution_count": 0,
      "outputs": []
    },
    {
      "cell_type": "code",
      "metadata": {
        "id": "3IGFvx-G5nud",
        "colab_type": "code",
        "outputId": "2f362272-6bb3-4659-e500-68c91c9975ee",
        "colab": {
          "base_uri": "https://localhost:8080/",
          "height": 764
        }
      },
      "source": [
        "import tensorflow as tf\n",
        "\n",
        "x_data = [1., 2., 3., 4.]\n",
        "y_data = [2., 4., 6., 8.]\n",
        "X = tf.placeholder(tf.float32)\n",
        "Y = tf.placeholder(tf.float32)\n",
        "# W2 = tf.placeholder(tf.float32)\n",
        "\n",
        "\n",
        "with tf.name_scope(\"Logit_Layer\"):\n",
        "# range is -100 ~ 100\n",
        "#   W = tf.Variable(tf.random_uniform ([1], -100., 100.))\n",
        "  W2 = tf.Variable(tf.random_uniform ([1], -100., 100.))\n",
        "  #b = tf.Variable(tf.random_uniform([1], -100., 100.))\n",
        "  hypothesis = W2 * X # + b\n",
        "  \n",
        "with tf.name_scope(\"GD_Trainer\"):\n",
        "  cost = tf.reduce_mean(tf.square(hypothesis - Y))  #cost\n",
        "  rate = tf.Variable(0.1)\n",
        "  gradient = tf.reduce_mean((W2 * X - Y) * X)    #gradient 실습하기 위해 추가\n",
        "  descent = W2 - rate * gradient   #alpha 는 Learning rate~  # descent \n",
        "  update = tf.assign(W2, descent)\n",
        "#   optimizer = tf.train.GradientDescentOptimizer(rate)\n",
        "#   train = optimizer.minimize(cost)\n",
        "\n",
        "init = tf.global_variables_initializer()\n",
        "#cf.)tf.initialize_all_variables() using in the old version\n",
        "\n",
        "sess = tf.Session()\n",
        "sess.run(init)\n",
        "writer = tf.summary.FileWriter('/content/log',graph=tf.get_default_graph())\n",
        "\n",
        "#여기서부터 train\n",
        "for step in range(200):\n",
        "#   sess.run(train, feed_dict={X: x_data, Y: y_data})\n",
        "  if step% 5 == 0:\n",
        "    print('step:', step, sess.run(update, feed_dict={X: x_data, Y: y_data}),'W2:',sess.run(W2))\n",
        "\n",
        "#여기서부터 test\n",
        "#관측되지 않은 데이터 넣어보기 5, 2.5\n",
        "print(sess.run(hypothesis, feed_dict={X : 5}))    \n",
        "print(sess.run(hypothesis, feed_dict={X : 2.5}))\n",
        "print(sess.run(hypothesis, feed_dict={X: [2.5, 5]}))"
      ],
      "execution_count": 0,
      "outputs": [
        {
          "output_type": "stream",
          "text": [
            "step: 0 [-15.356609] W2: [-15.356609]\n",
            "step: 5 [-2.3391514] W2: [-2.3391514]\n",
            "step: 10 [0.9152119] W2: [0.9152119]\n",
            "step: 15 [1.728803] W2: [1.728803]\n",
            "step: 20 [1.9322008] W2: [1.9322008]\n",
            "step: 25 [1.9830502] W2: [1.9830502]\n",
            "step: 30 [1.9957626] W2: [1.9957626]\n",
            "step: 35 [1.9989407] W2: [1.9989407]\n",
            "step: 40 [1.9997351] W2: [1.9997351]\n",
            "step: 45 [1.9999337] W2: [1.9999337]\n",
            "step: 50 [1.9999834] W2: [1.9999834]\n",
            "step: 55 [1.9999958] W2: [1.9999958]\n",
            "step: 60 [1.9999989] W2: [1.9999989]\n",
            "step: 65 [1.9999998] W2: [1.9999998]\n",
            "step: 70 [2.] W2: [2.]\n",
            "step: 75 [2.] W2: [2.]\n",
            "step: 80 [2.] W2: [2.]\n",
            "step: 85 [2.] W2: [2.]\n",
            "step: 90 [2.] W2: [2.]\n",
            "step: 95 [2.] W2: [2.]\n",
            "step: 100 [2.] W2: [2.]\n",
            "step: 105 [2.] W2: [2.]\n",
            "step: 110 [2.] W2: [2.]\n",
            "step: 115 [2.] W2: [2.]\n",
            "step: 120 [2.] W2: [2.]\n",
            "step: 125 [2.] W2: [2.]\n",
            "step: 130 [2.] W2: [2.]\n",
            "step: 135 [2.] W2: [2.]\n",
            "step: 140 [2.] W2: [2.]\n",
            "step: 145 [2.] W2: [2.]\n",
            "step: 150 [2.] W2: [2.]\n",
            "step: 155 [2.] W2: [2.]\n",
            "step: 160 [2.] W2: [2.]\n",
            "step: 165 [2.] W2: [2.]\n",
            "step: 170 [2.] W2: [2.]\n",
            "step: 175 [2.] W2: [2.]\n",
            "step: 180 [2.] W2: [2.]\n",
            "step: 185 [2.] W2: [2.]\n",
            "step: 190 [2.] W2: [2.]\n",
            "step: 195 [2.] W2: [2.]\n",
            "[10.]\n",
            "[5.]\n",
            "[ 5. 10.]\n"
          ],
          "name": "stdout"
        }
      ]
    },
    {
      "cell_type": "markdown",
      "metadata": {
        "id": "2y1WNVO8zRcC",
        "colab_type": "text"
      },
      "source": [
        "# p62 Logistic Regression"
      ]
    },
    {
      "cell_type": "code",
      "metadata": {
        "id": "kMYfYBcyw83R",
        "colab_type": "code",
        "outputId": "0ff07a9b-f75e-40c3-f53e-114ff544129c",
        "colab": {
          "base_uri": "https://localhost:8080/",
          "height": 401
        }
      },
      "source": [
        "import tensorflow as tf\n",
        "import numpy as np\n",
        "\n",
        "xy = np.loadtxt('train.txt', unpack=True, dtype = 'float32')\n",
        "x_data = xy[:-1]\n",
        "y_data = xy[-1]\n",
        "\n",
        "x = tf.placeholder(tf.float32)\n",
        "y = tf.placeholder(tf.float32)\n",
        "z = tf.Variable(tf.random_uniform([1, len(x_data)], -1.0, -1.0))\n",
        "\n",
        "h = tf.matmul(W,X)\n",
        "hypothesis = -tf.div( 1., 1. + tf.exp(-h) )\n"
      ],
      "execution_count": 0,
      "outputs": [
        {
          "output_type": "error",
          "ename": "OSError",
          "evalue": "ignored",
          "traceback": [
            "\u001b[0;31m---------------------------------------------------------------------------\u001b[0m",
            "\u001b[0;31mOSError\u001b[0m                                   Traceback (most recent call last)",
            "\u001b[0;32m<ipython-input-66-dfec6b4ae265>\u001b[0m in \u001b[0;36m<module>\u001b[0;34m()\u001b[0m\n\u001b[1;32m      2\u001b[0m \u001b[0;32mimport\u001b[0m \u001b[0mnumpy\u001b[0m \u001b[0;32mas\u001b[0m \u001b[0mnp\u001b[0m\u001b[0;34m\u001b[0m\u001b[0;34m\u001b[0m\u001b[0m\n\u001b[1;32m      3\u001b[0m \u001b[0;34m\u001b[0m\u001b[0m\n\u001b[0;32m----> 4\u001b[0;31m \u001b[0mxy\u001b[0m \u001b[0;34m=\u001b[0m \u001b[0mnp\u001b[0m\u001b[0;34m.\u001b[0m\u001b[0mloadtxt\u001b[0m\u001b[0;34m(\u001b[0m\u001b[0;34m'train.txt'\u001b[0m\u001b[0;34m,\u001b[0m \u001b[0munpack\u001b[0m\u001b[0;34m=\u001b[0m\u001b[0;32mTrue\u001b[0m\u001b[0;34m,\u001b[0m \u001b[0mdtype\u001b[0m \u001b[0;34m=\u001b[0m \u001b[0;34m'float32'\u001b[0m\u001b[0;34m)\u001b[0m\u001b[0;34m\u001b[0m\u001b[0;34m\u001b[0m\u001b[0m\n\u001b[0m\u001b[1;32m      5\u001b[0m \u001b[0mx_data\u001b[0m \u001b[0;34m=\u001b[0m \u001b[0mxy\u001b[0m\u001b[0;34m[\u001b[0m\u001b[0;34m:\u001b[0m\u001b[0;34m-\u001b[0m\u001b[0;36m1\u001b[0m\u001b[0;34m]\u001b[0m\u001b[0;34m\u001b[0m\u001b[0;34m\u001b[0m\u001b[0m\n\u001b[1;32m      6\u001b[0m \u001b[0my_data\u001b[0m \u001b[0;34m=\u001b[0m \u001b[0mxy\u001b[0m\u001b[0;34m[\u001b[0m\u001b[0;34m-\u001b[0m\u001b[0;36m1\u001b[0m\u001b[0;34m]\u001b[0m\u001b[0;34m\u001b[0m\u001b[0;34m\u001b[0m\u001b[0m\n",
            "\u001b[0;32m/usr/local/lib/python3.6/dist-packages/numpy/lib/npyio.py\u001b[0m in \u001b[0;36mloadtxt\u001b[0;34m(fname, dtype, comments, delimiter, converters, skiprows, usecols, unpack, ndmin, encoding, max_rows)\u001b[0m\n\u001b[1;32m    960\u001b[0m             \u001b[0mfname\u001b[0m \u001b[0;34m=\u001b[0m \u001b[0mos_fspath\u001b[0m\u001b[0;34m(\u001b[0m\u001b[0mfname\u001b[0m\u001b[0;34m)\u001b[0m\u001b[0;34m\u001b[0m\u001b[0;34m\u001b[0m\u001b[0m\n\u001b[1;32m    961\u001b[0m         \u001b[0;32mif\u001b[0m \u001b[0m_is_string_like\u001b[0m\u001b[0;34m(\u001b[0m\u001b[0mfname\u001b[0m\u001b[0;34m)\u001b[0m\u001b[0;34m:\u001b[0m\u001b[0;34m\u001b[0m\u001b[0;34m\u001b[0m\u001b[0m\n\u001b[0;32m--> 962\u001b[0;31m             \u001b[0mfh\u001b[0m \u001b[0;34m=\u001b[0m \u001b[0mnp\u001b[0m\u001b[0;34m.\u001b[0m\u001b[0mlib\u001b[0m\u001b[0;34m.\u001b[0m\u001b[0m_datasource\u001b[0m\u001b[0;34m.\u001b[0m\u001b[0mopen\u001b[0m\u001b[0;34m(\u001b[0m\u001b[0mfname\u001b[0m\u001b[0;34m,\u001b[0m \u001b[0;34m'rt'\u001b[0m\u001b[0;34m,\u001b[0m \u001b[0mencoding\u001b[0m\u001b[0;34m=\u001b[0m\u001b[0mencoding\u001b[0m\u001b[0;34m)\u001b[0m\u001b[0;34m\u001b[0m\u001b[0;34m\u001b[0m\u001b[0m\n\u001b[0m\u001b[1;32m    963\u001b[0m             \u001b[0mfencoding\u001b[0m \u001b[0;34m=\u001b[0m \u001b[0mgetattr\u001b[0m\u001b[0;34m(\u001b[0m\u001b[0mfh\u001b[0m\u001b[0;34m,\u001b[0m \u001b[0;34m'encoding'\u001b[0m\u001b[0;34m,\u001b[0m \u001b[0;34m'latin1'\u001b[0m\u001b[0;34m)\u001b[0m\u001b[0;34m\u001b[0m\u001b[0;34m\u001b[0m\u001b[0m\n\u001b[1;32m    964\u001b[0m             \u001b[0mfh\u001b[0m \u001b[0;34m=\u001b[0m \u001b[0miter\u001b[0m\u001b[0;34m(\u001b[0m\u001b[0mfh\u001b[0m\u001b[0;34m)\u001b[0m\u001b[0;34m\u001b[0m\u001b[0;34m\u001b[0m\u001b[0m\n",
            "\u001b[0;32m/usr/local/lib/python3.6/dist-packages/numpy/lib/_datasource.py\u001b[0m in \u001b[0;36mopen\u001b[0;34m(path, mode, destpath, encoding, newline)\u001b[0m\n\u001b[1;32m    264\u001b[0m \u001b[0;34m\u001b[0m\u001b[0m\n\u001b[1;32m    265\u001b[0m     \u001b[0mds\u001b[0m \u001b[0;34m=\u001b[0m \u001b[0mDataSource\u001b[0m\u001b[0;34m(\u001b[0m\u001b[0mdestpath\u001b[0m\u001b[0;34m)\u001b[0m\u001b[0;34m\u001b[0m\u001b[0;34m\u001b[0m\u001b[0m\n\u001b[0;32m--> 266\u001b[0;31m     \u001b[0;32mreturn\u001b[0m \u001b[0mds\u001b[0m\u001b[0;34m.\u001b[0m\u001b[0mopen\u001b[0m\u001b[0;34m(\u001b[0m\u001b[0mpath\u001b[0m\u001b[0;34m,\u001b[0m \u001b[0mmode\u001b[0m\u001b[0;34m,\u001b[0m \u001b[0mencoding\u001b[0m\u001b[0;34m=\u001b[0m\u001b[0mencoding\u001b[0m\u001b[0;34m,\u001b[0m \u001b[0mnewline\u001b[0m\u001b[0;34m=\u001b[0m\u001b[0mnewline\u001b[0m\u001b[0;34m)\u001b[0m\u001b[0;34m\u001b[0m\u001b[0;34m\u001b[0m\u001b[0m\n\u001b[0m\u001b[1;32m    267\u001b[0m \u001b[0;34m\u001b[0m\u001b[0m\n\u001b[1;32m    268\u001b[0m \u001b[0;34m\u001b[0m\u001b[0m\n",
            "\u001b[0;32m/usr/local/lib/python3.6/dist-packages/numpy/lib/_datasource.py\u001b[0m in \u001b[0;36mopen\u001b[0;34m(self, path, mode, encoding, newline)\u001b[0m\n\u001b[1;32m    622\u001b[0m                                       encoding=encoding, newline=newline)\n\u001b[1;32m    623\u001b[0m         \u001b[0;32melse\u001b[0m\u001b[0;34m:\u001b[0m\u001b[0;34m\u001b[0m\u001b[0;34m\u001b[0m\u001b[0m\n\u001b[0;32m--> 624\u001b[0;31m             \u001b[0;32mraise\u001b[0m \u001b[0mIOError\u001b[0m\u001b[0;34m(\u001b[0m\u001b[0;34m\"%s not found.\"\u001b[0m \u001b[0;34m%\u001b[0m \u001b[0mpath\u001b[0m\u001b[0;34m)\u001b[0m\u001b[0;34m\u001b[0m\u001b[0;34m\u001b[0m\u001b[0m\n\u001b[0m\u001b[1;32m    625\u001b[0m \u001b[0;34m\u001b[0m\u001b[0m\n\u001b[1;32m    626\u001b[0m \u001b[0;34m\u001b[0m\u001b[0m\n",
            "\u001b[0;31mOSError\u001b[0m: train.txt not found."
          ]
        }
      ]
    },
    {
      "cell_type": "code",
      "metadata": {
        "id": "p6G0DtxZ0uCY",
        "colab_type": "code",
        "colab": {}
      },
      "source": [
        ""
      ],
      "execution_count": 0,
      "outputs": []
    }
  ]
}