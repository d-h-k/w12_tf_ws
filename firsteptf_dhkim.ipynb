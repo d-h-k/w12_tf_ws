{
  "nbformat": 4,
  "nbformat_minor": 0,
  "metadata": {
    "colab": {
      "name": "firsteptf_dhkim.ipynb",
      "version": "0.3.2",
      "provenance": [],
      "collapsed_sections": [],
      "include_colab_link": true
    },
    "kernelspec": {
      "name": "python3",
      "display_name": "Python 3"
    }
  },
  "cells": [
    {
      "cell_type": "markdown",
      "metadata": {
        "id": "view-in-github",
        "colab_type": "text"
      },
      "source": [
        "<a href=\"https://colab.research.google.com/github/d-h-k/w12_tf_ws/blob/master/firsteptf_dhkim.ipynb\" target=\"_parent\"><img src=\"https://colab.research.google.com/assets/colab-badge.svg\" alt=\"Open In Colab\"/></a>"
      ]
    },
    {
      "cell_type": "markdown",
      "metadata": {
        "id": "885h1ms1gv3g",
        "colab_type": "text"
      },
      "source": [
        "# p41 "
      ]
    },
    {
      "cell_type": "code",
      "metadata": {
        "id": "ATcUIr6jgtnr",
        "colab_type": "code",
        "colab": {
          "base_uri": "https://localhost:8080/",
          "height": 34
        },
        "outputId": "b4283349-60b8-441f-dcfe-0d363a62eaea"
      },
      "source": [
        "import tensorflow as tf\n",
        "\n",
        "a=tf.placeholder(\"float\")\n",
        "b=tf.placeholder(\"float\")\n",
        "\n",
        "y = tf.multiply(a,b)\n",
        "\n",
        "sess = tf.Session()\n",
        "\n",
        "print(sess.run(y, feed_dict={a:3, b:3}))"
      ],
      "execution_count": 3,
      "outputs": [
        {
          "output_type": "stream",
          "text": [
            "9.0\n"
          ],
          "name": "stdout"
        }
      ]
    },
    {
      "cell_type": "markdown",
      "metadata": {
        "id": "b6AyLUafkWM2",
        "colab_type": "text"
      },
      "source": [
        "# 텐서보드 출력 예제, 실행안됨 -> 네이티브 환경에서 재 실행"
      ]
    },
    {
      "cell_type": "code",
      "metadata": {
        "id": "0flNK9IXg25O",
        "colab_type": "code",
        "colab": {
          "base_uri": "https://localhost:8080/",
          "height": 129
        },
        "outputId": "36ce6e23-2028-4a8f-b4af-2ea35544549c"
      },
      "source": [
        "tensorboard --logdir='/content'"
      ],
      "execution_count": 8,
      "outputs": [
        {
          "output_type": "error",
          "ename": "SyntaxError",
          "evalue": "ignored",
          "traceback": [
            "\u001b[0;36m  File \u001b[0;32m\"<ipython-input-8-74c34631c0d4>\"\u001b[0;36m, line \u001b[0;32m1\u001b[0m\n\u001b[0;31m    tensorboard --logdir='/content'\u001b[0m\n\u001b[0m                                   ^\u001b[0m\n\u001b[0;31mSyntaxError\u001b[0m\u001b[0;31m:\u001b[0m can't assign to operator\n"
          ]
        }
      ]
    },
    {
      "cell_type": "code",
      "metadata": {
        "id": "3eVlMAnmhO2E",
        "colab_type": "code",
        "colab": {
          "base_uri": "https://localhost:8080/",
          "height": 34
        },
        "outputId": "91d35ed9-8da7-4b1f-8d23-6387f5f5a371"
      },
      "source": [
        "pwd"
      ],
      "execution_count": 6,
      "outputs": [
        {
          "output_type": "execute_result",
          "data": {
            "text/plain": [
              "'/content'"
            ]
          },
          "metadata": {
            "tags": []
          },
          "execution_count": 6
        }
      ]
    },
    {
      "cell_type": "markdown",
      "metadata": {
        "id": "rZ2dzRWFkiCi",
        "colab_type": "text"
      },
      "source": [
        "# p49 변수간 관계에 대한 모델, 선형회귀분석\n",
        "  - 이장에서는 가장 간단한 예제인 선형회귀분석 방법을 이용해서 변수들 사이의 관계를 분석해 보겠습니다.\n",
        "  - 선형회귀는 Linear Regression 이라고 하며, 가장 간단한 형태의 알고리즘 입니다\n",
        "  - 먼저 보이는 코드는 임의의 좌표를 생성하는 코드 입니다"
      ]
    },
    {
      "cell_type": "code",
      "metadata": {
        "id": "rnBV_S9xhVp0",
        "colab_type": "code",
        "colab": {}
      },
      "source": [
        "import numpy as np\n",
        "num_points = 1000\n",
        "vectors_set = []\n",
        "\n",
        "for i in range(num_points):\n",
        "  x1 = np.random.normal(0.0, 0.55)\n",
        "  y1 = x1*0.1+0.3 + np.random.normal(0.0, 0.03)\n",
        "  vectors_set.append([x1,y1])\n",
        "  \n",
        "x_data = ia[v[0] for v in vectors_set]\n",
        "y_data = [v[1] for v in vectors_set]"
      ],
      "execution_count": 0,
      "outputs": []
    },
    {
      "cell_type": "markdown",
      "metadata": {
        "id": "EZdL3Z81lWOH",
        "colab_type": "text"
      },
      "source": [
        " - 아래 코드를 이용, matplotlib 라이브러리를 활용해 좌표축에 점을 찍어보겠습니다"
      ]
    },
    {
      "cell_type": "code",
      "metadata": {
        "id": "IbbEhLQ7iY0e",
        "colab_type": "code",
        "colab": {
          "base_uri": "https://localhost:8080/",
          "height": 269
        },
        "outputId": "db5efb80-f94e-4e9f-832d-59634e3a12b6"
      },
      "source": [
        "import matplotlib.pyplot as plt\n",
        "plt.plot(x_data, y_data, 'ro')\n",
        "plt.show()"
      ],
      "execution_count": 14,
      "outputs": [
        {
          "output_type": "display_data",
          "data": {
            "image/png": "[encoded data removed]",
            "text/plain": [
              "<Figure size 432x288 with 1 Axes>"
            ]
          },
          "metadata": {
            "tags": []
          }
        }
      ]
    },
    {
      "cell_type": "markdown",
      "metadata": {
        "id": "qcq5CU0JlhXK",
        "colab_type": "text"
      },
      "source": [
        "# 51p 비용함수와 경사 하강법 알고리즘\n",
        " - 학습 알고리즘을 훈련\n",
        " - 사실 우리는 위 직선이 선형회귀라는것, 그러니까 y=ax+b 형태의 방정식임을 알고있지만, 컴퓨터에게 직접 알려주지 않고 알아서 찾아가게 만드는 방법 입니다.\n",
        " - 여기서 컴퓨터(머신러닝 프레임워크) W(가중치)와 b 라는 매개변수를 계속 수정 해 가면서 답을 찾아 나갑니다\n",
        " - 지금 잘 하고 있는지 아닌지를 확인하기 위해서 비용함수를 정의합니다. \n",
        " - 비용함수는 오차함수라고도 합니다. 결국 많은 자료들에서 말하는, Cost = error 라는 식이 성립하게 됩니다..\n",
        " - 이번 예제에서는 평균제곱오차를 사용하며, 실제 값과 알고리즘이 반복마다 추정한 값 사이의 거리를 오차로 하는 값의 평균입니다"
      ]
    },
    {
      "cell_type": "code",
      "metadata": {
        "id": "CCGFZA55iyOS",
        "colab_type": "code",
        "colab": {}
      },
      "source": [
        "import tensorflow as tf\n",
        "\n",
        "W = tf.Variable(tf.random_uniform([1], -1.0, 1.0))\n",
        "b = tf.Variable(tf.zeros([1]))\n",
        "y = W * x_data +b"
      ],
      "execution_count": 0,
      "outputs": []
    },
    {
      "cell_type": "code",
      "metadata": {
        "id": "3_NMPRbjjV5X",
        "colab_type": "code",
        "colab": {}
      },
      "source": [
        "loss = tf.reduce_mean(tf.square(y-y_data))"
      ],
      "execution_count": 0,
      "outputs": []
    },
    {
      "cell_type": "code",
      "metadata": {
        "id": "AwH0oI7Wjf_o",
        "colab_type": "code",
        "colab": {}
      },
      "source": [
        "optimizer = tf.train.GradientDescentOptimizer(0.5)\n",
        "train = optimizer.minimize(loss)"
      ],
      "execution_count": 0,
      "outputs": []
    },
    {
      "cell_type": "code",
      "metadata": {
        "id": "y6r4P0VajsUl",
        "colab_type": "code",
        "colab": {}
      },
      "source": [
        "#init = tf.initialize_all_variables()\n",
        "init = tf.global_variables_initializer()\n",
        "sess = tf.Session()\n",
        "sess.run(init)"
      ],
      "execution_count": 0,
      "outputs": []
    },
    {
      "cell_type": "code",
      "metadata": {
        "id": "rKcmBQxzm9dC",
        "colab_type": "code",
        "colab": {
          "base_uri": "https://localhost:8080/",
          "height": 51
        },
        "outputId": "30b4f620-920a-4faf-f239-c9d0a32ce5b8"
      },
      "source": [
        "for step in range(8):\n",
        "  sess.run(train)\n",
        "print(sess.run(W),sess.run(b))\n",
        "print('Tensorflow guess : W= %f, b = %f'%(sess.run(W),sess.run(b)) )"
      ],
      "execution_count": 33,
      "outputs": [
        {
          "output_type": "stream",
          "text": [
            "[0.10395154] [0.2998345]\n",
            "Tensorflow guess : W= 0.103952, b = 0.299834\n"
          ],
          "name": "stdout"
        }
      ]
    },
    {
      "cell_type": "code",
      "metadata": {
        "id": "t-IzPg_Zn0i1",
        "colab_type": "code",
        "colab": {
          "base_uri": "https://localhost:8080/",
          "height": 283
        },
        "outputId": "5278b53f-5a31-497f-c3d0-9812e8f70b57"
      },
      "source": [
        "plt.plot(x_data, y_data, 'ro')\n",
        "plt.plot(x_data, sess.run(W) * x_data + sess.run(b))\n",
        "plt.xlabel('x')\n",
        "plt.ylabel('y')\n",
        "plt.show()"
      ],
      "execution_count": 34,
      "outputs": [
        {
          "output_type": "display_data",
          "data": {
            "image/png": "[encoded data removed]",
            "text/plain": [
              "<Figure size 432x288 with 1 Axes>"
            ]
          },
          "metadata": {
            "tags": []
          }
        }
      ]
    },
    {
      "cell_type": "code",
      "metadata": {
        "id": "9CbKBo3OpbUN",
        "colab_type": "code",
        "colab": {}
      },
      "source": [
        " - 위에 점과 텐서플로가 추측한 관계식을 그래프에서 확인할 수 있다"
      ],
      "execution_count": 0,
      "outputs": []
    }
  ]
}